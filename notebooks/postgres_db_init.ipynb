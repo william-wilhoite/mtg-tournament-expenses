{
 "cells": [
  {
   "cell_type": "code",
   "execution_count": 1,
   "id": "96ff9fd6-205d-4064-925a-a573e42df7be",
   "metadata": {
    "editable": true,
    "slideshow": {
     "slide_type": ""
    },
    "tags": []
   },
   "outputs": [],
   "source": [
    "import pandas\n",
    "from sqlalchemy import create_engine, text\n",
    "from sqlalchemy_utils import database_exists, create_database"
   ]
  },
  {
   "cell_type": "code",
   "execution_count": 10,
   "id": "23518e75-f1fd-4c29-9512-0c767eecc743",
   "metadata": {},
   "outputs": [],
   "source": [
    "import psycopg2"
   ]
  },
  {
   "cell_type": "code",
   "execution_count": 2,
   "id": "8899afca-461d-498f-9456-27cf7b2a2802",
   "metadata": {},
   "outputs": [],
   "source": [
    "import json"
   ]
  },
  {
   "cell_type": "code",
   "execution_count": 12,
   "id": "fe6f28c2-44e0-4cfe-aaa9-dbfefaa56b17",
   "metadata": {
    "editable": true,
    "slideshow": {
     "slide_type": ""
    },
    "tags": []
   },
   "outputs": [
    {
     "name": "stdout",
     "output_type": "stream",
     "text": [
      "True\n"
     ]
    }
   ],
   "source": [
    "# https://stackoverflow.com/questions/6506578/how-to-create-a-new-database-using-sqlalchemy\n",
    "\n",
    "database_name = 'mtg_pro_tour'    # Fill this in with your lahman database name\n",
    "\n",
    "with open('../../keys/postgres.json') as file:\n",
    "    credentials = json.load(file)\n",
    "\n",
    "server   = credentials['server_type']\n",
    "user     = credentials['user']\n",
    "password = credentials['password']\n",
    "host     = credentials['host']\n",
    "port     = credentials['port']\n",
    "\n",
    "\n",
    "connection_string = f\"{server}://{user}:{password}@{host}:{port}/{database_name}\"\n",
    "\n",
    "engine = create_engine(connection_string)\n",
    "if not database_exists(engine.url):\n",
    "    create_database(engine.url)\n",
    "\n",
    "print(database_exists(engine.url))"
   ]
  }
 ],
 "metadata": {
  "kernelspec": {
   "display_name": "Python [conda env:base] *",
   "language": "python",
   "name": "conda-base-py"
  },
  "language_info": {
   "codemirror_mode": {
    "name": "ipython",
    "version": 3
   },
   "file_extension": ".py",
   "mimetype": "text/x-python",
   "name": "python",
   "nbconvert_exporter": "python",
   "pygments_lexer": "ipython3",
   "version": "3.11.7"
  }
 },
 "nbformat": 4,
 "nbformat_minor": 5
}
