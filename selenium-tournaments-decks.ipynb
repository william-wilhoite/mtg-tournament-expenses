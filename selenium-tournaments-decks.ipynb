{
 "cells": [
  {
   "cell_type": "code",
   "execution_count": 1,
   "id": "1c70d534-a07a-4e70-ba6c-a401b3b87327",
   "metadata": {},
   "outputs": [],
   "source": [
    "import requests\n",
    "import pandas as pd\n",
    "from time     import sleep\n",
    "from selenium import webdriver\n",
    "from bs4      import BeautifulSoup as BS\n",
    "from selenium.webdriver.common.by import By\n",
    "from random import randrange"
   ]
  },
  {
   "cell_type": "code",
   "execution_count": 2,
   "id": "bb6a201e-693d-4524-a7ea-f24f5eedb167",
   "metadata": {
    "editable": true,
    "slideshow": {
     "slide_type": ""
    },
    "tags": []
   },
   "outputs": [],
   "source": [
    "from functions.status import print_refresh, pause_update"
   ]
  },
  {
   "cell_type": "code",
   "execution_count": null,
   "id": "fc7bf8af-64be-438c-b4d6-052e7f65e5ea",
   "metadata": {},
   "outputs": [],
   "source": [
    "## Useful reference\n",
    "## https://necromuralist.github.io/posts/selenium-to-soup-to-pandas/"
   ]
  },
  {
   "cell_type": "code",
   "execution_count": 10,
   "id": "a6a382d0-673d-44d6-9050-273645d22e7a",
   "metadata": {},
   "outputs": [],
   "source": [
    "''' Grab Tounament Table '''\n",
    "def grab_tournament():\n",
    "  table_driver = driver.find_element( By.CLASS_NAME, 'table-tournament' )\n",
    "  pause_update(3, f'Tournament Tables grabbed')\n",
    "  tournament = pd.read_html(table_driver)\n",
    "  return tournament"
   ]
  },
  {
   "cell_type": "code",
   "execution_count": 4,
   "id": "f729b794-e5ba-438f-88b5-2dbd8611867a",
   "metadata": {},
   "outputs": [],
   "source": [
    "''' Expand Deck Lists '''\n",
    "def expand_deck_lists():\n",
    "  button = driver.find_element( \n",
    "      By.CLASS_NAME, 'tournament-decklist-collapse'\n",
    "  )\n",
    "  button.click()\n",
    "  print_refresh(f'expansion click finished')\n",
    "  #wait.until(lambda _ : revealed.is_displayed() )\n",
    "  pause_update(120)"
   ]
  },
  {
   "cell_type": "code",
   "execution_count": null,
   "id": "186ca0f3-8335-4be8-809e-d95235d2aa2c",
   "metadata": {},
   "outputs": [],
   "source": [
    "''' Find deck lists '''\n",
    "def grab_decks():\n",
    "    temp = driver.find_elements( By.CLASS_NAME, 'deck-table-container' )\n",
    "    pause_update(5, start =  f'len(temp) decks found ')\n",
    "    return temp"
   ]
  },
  {
   "cell_type": "code",
   "execution_count": null,
   "id": "623d0393-1f9f-442c-9873-1af66adafacd",
   "metadata": {},
   "outputs": [],
   "source": [
    "''' Find all cards '''\n",
    "def grab_cards():\n",
    "    temp = driver.find_elements( By.CLASS_NAME, 'card_name' )\n",
    "    print( len(temp), 'cards found' )\n",
    "    pause_update(3)\n",
    "    return temp"
   ]
  },
  {
   "cell_type": "markdown",
   "id": "ccb32afd-9cd0-4cf6-aed4-d6e24a0cffe2",
   "metadata": {},
   "source": [
    "## Preample Variables"
   ]
  },
  {
   "cell_type": "code",
   "execution_count": 5,
   "id": "b171c7c6-b1a8-437b-b637-617d8cddccc4",
   "metadata": {},
   "outputs": [
    {
     "data": {
      "text/html": [
       "<div>\n",
       "<style scoped>\n",
       "    .dataframe tbody tr th:only-of-type {\n",
       "        vertical-align: middle;\n",
       "    }\n",
       "\n",
       "    .dataframe tbody tr th {\n",
       "        vertical-align: top;\n",
       "    }\n",
       "\n",
       "    .dataframe thead th {\n",
       "        text-align: right;\n",
       "    }\n",
       "</style>\n",
       "<table border=\"1\" class=\"dataframe\">\n",
       "  <thead>\n",
       "    <tr style=\"text-align: right;\">\n",
       "      <th></th>\n",
       "    </tr>\n",
       "  </thead>\n",
       "  <tbody>\n",
       "  </tbody>\n",
       "</table>\n",
       "</div>"
      ],
      "text/plain": [
       "Empty DataFrame\n",
       "Columns: []\n",
       "Index: []"
      ]
     },
     "execution_count": 5,
     "metadata": {},
     "output_type": "execute_result"
    }
   ],
   "source": [
    "tournament_df = pd.DataFrame()\n",
    "tournament_df.head()"
   ]
  },
  {
   "cell_type": "code",
   "execution_count": 6,
   "id": "65099568-7201-41d9-8018-ca5a052baef4",
   "metadata": {},
   "outputs": [],
   "source": [
    "deck_lists = []\n",
    "card_dictionary = {}"
   ]
  },
  {
   "cell_type": "markdown",
   "id": "f10c98b5-938e-4090-b8c2-f5a5ffe9c795",
   "metadata": {},
   "source": [
    "## Scrape"
   ]
  },
  {
   "cell_type": "code",
   "execution_count": 7,
   "id": "8a1079fb-1f06-4bac-93c9-4b946e89b795",
   "metadata": {},
   "outputs": [
    {
     "name": "stdout",
     "output_type": "stream",
     "text": [
      "Driver Initiated\n"
     ]
    },
    {
     "name": "stdin",
     "output_type": "stream",
     "text": [
      "pause to let you log in if needed \n"
     ]
    },
    {
     "data": {
      "text/plain": [
       "''"
      ]
     },
     "execution_count": 7,
     "metadata": {},
     "output_type": "execute_result"
    }
   ],
   "source": [
    "''' Initialize WebDriver '''\n",
    "driver = webdriver.Chrome()\n",
    "driver.implicitly_wait(5)\n",
    "driver.set_page_load_timeout(60)\n",
    "driver.get('https://mtggoldfish.com/')\n",
    "print('Driver Initiated')\n",
    "input(\"pause to let you log in if needed\")"
   ]
  },
  {
   "cell_type": "code",
   "execution_count": 12,
   "id": "a146d69d-e0d6-401e-b60c-78a843f20715",
   "metadata": {},
   "outputs": [
    {
     "name": "stdout",
     "output_type": "stream",
     "text": [
      "::: Tournament Tables grabbed Finished with 3 second wait:  :::ining:  :::\r"
     ]
    },
    {
     "ename": "TypeError",
     "evalue": "cannot parse from 'WebElement'",
     "output_type": "error",
     "traceback": [
      "\u001b[31m---------------------------------------------------------------------------\u001b[39m",
      "\u001b[31mTypeError\u001b[39m                                 Traceback (most recent call last)",
      "\u001b[36mCell\u001b[39m\u001b[36m \u001b[39m\u001b[32mIn[12]\u001b[39m\u001b[32m, line 3\u001b[39m\n\u001b[32m      1\u001b[39m tournament_URL = \u001b[33mf\u001b[39m\u001b[33m'\u001b[39m\u001b[33mhttps://www.mtggoldfish.com/tournament/pro-tour-aetherdrift?page=\u001b[39m\u001b[38;5;132;01m{\u001b[39;00m\u001b[32m1\u001b[39m\u001b[38;5;132;01m}\u001b[39;00m\u001b[33m#paper\u001b[39m\u001b[33m'\u001b[39m\n\u001b[32m      2\u001b[39m driver.get( tournament_URL )\n\u001b[32m----> \u001b[39m\u001b[32m3\u001b[39m df_1 = grab_tournament()\n",
      "\u001b[36mCell\u001b[39m\u001b[36m \u001b[39m\u001b[32mIn[10]\u001b[39m\u001b[32m, line 5\u001b[39m, in \u001b[36mgrab_tournament\u001b[39m\u001b[34m()\u001b[39m\n\u001b[32m      3\u001b[39m table_driver = driver.find_element( By.CLASS_NAME, \u001b[33m'\u001b[39m\u001b[33mtable-tournament\u001b[39m\u001b[33m'\u001b[39m )\n\u001b[32m      4\u001b[39m pause_update(\u001b[32m3\u001b[39m, \u001b[33mf\u001b[39m\u001b[33m'\u001b[39m\u001b[33mTournament Tables grabbed\u001b[39m\u001b[33m'\u001b[39m)\n\u001b[32m----> \u001b[39m\u001b[32m5\u001b[39m tournament = pd.read_html(table_driver)\n\u001b[32m      6\u001b[39m \u001b[38;5;28;01mreturn\u001b[39;00m tournament\n",
      "\u001b[36mFile \u001b[39m\u001b[32mC:\\Users\\school\\anaconda3\\envs\\selenium\\Lib\\site-packages\\pandas\\io\\html.py:1240\u001b[39m, in \u001b[36mread_html\u001b[39m\u001b[34m(io, match, flavor, header, index_col, skiprows, attrs, parse_dates, thousands, encoding, decimal, converters, na_values, keep_default_na, displayed_only, extract_links, dtype_backend, storage_options)\u001b[39m\n\u001b[32m   1224\u001b[39m \u001b[38;5;28;01mif\u001b[39;00m \u001b[38;5;28misinstance\u001b[39m(io, \u001b[38;5;28mstr\u001b[39m) \u001b[38;5;129;01mand\u001b[39;00m \u001b[38;5;129;01mnot\u001b[39;00m \u001b[38;5;28many\u001b[39m(\n\u001b[32m   1225\u001b[39m     [\n\u001b[32m   1226\u001b[39m         is_file_like(io),\n\u001b[32m   (...)\u001b[39m\u001b[32m   1230\u001b[39m     ]\n\u001b[32m   1231\u001b[39m ):\n\u001b[32m   1232\u001b[39m     warnings.warn(\n\u001b[32m   1233\u001b[39m         \u001b[33m\"\u001b[39m\u001b[33mPassing literal html to \u001b[39m\u001b[33m'\u001b[39m\u001b[33mread_html\u001b[39m\u001b[33m'\u001b[39m\u001b[33m is deprecated and \u001b[39m\u001b[33m\"\u001b[39m\n\u001b[32m   1234\u001b[39m         \u001b[33m\"\u001b[39m\u001b[33mwill be removed in a future version. To read from a \u001b[39m\u001b[33m\"\u001b[39m\n\u001b[32m   (...)\u001b[39m\u001b[32m   1237\u001b[39m         stacklevel=find_stack_level(),\n\u001b[32m   1238\u001b[39m     )\n\u001b[32m-> \u001b[39m\u001b[32m1240\u001b[39m \u001b[38;5;28;01mreturn\u001b[39;00m _parse(\n\u001b[32m   1241\u001b[39m     flavor=flavor,\n\u001b[32m   1242\u001b[39m     io=io,\n\u001b[32m   1243\u001b[39m     match=match,\n\u001b[32m   1244\u001b[39m     header=header,\n\u001b[32m   1245\u001b[39m     index_col=index_col,\n\u001b[32m   1246\u001b[39m     skiprows=skiprows,\n\u001b[32m   1247\u001b[39m     parse_dates=parse_dates,\n\u001b[32m   1248\u001b[39m     thousands=thousands,\n\u001b[32m   1249\u001b[39m     attrs=attrs,\n\u001b[32m   1250\u001b[39m     encoding=encoding,\n\u001b[32m   1251\u001b[39m     decimal=decimal,\n\u001b[32m   1252\u001b[39m     converters=converters,\n\u001b[32m   1253\u001b[39m     na_values=na_values,\n\u001b[32m   1254\u001b[39m     keep_default_na=keep_default_na,\n\u001b[32m   1255\u001b[39m     displayed_only=displayed_only,\n\u001b[32m   1256\u001b[39m     extract_links=extract_links,\n\u001b[32m   1257\u001b[39m     dtype_backend=dtype_backend,\n\u001b[32m   1258\u001b[39m     storage_options=storage_options,\n\u001b[32m   1259\u001b[39m )\n",
      "\u001b[36mFile \u001b[39m\u001b[32mC:\\Users\\school\\anaconda3\\envs\\selenium\\Lib\\site-packages\\pandas\\io\\html.py:983\u001b[39m, in \u001b[36m_parse\u001b[39m\u001b[34m(flavor, io, match, attrs, encoding, displayed_only, extract_links, storage_options, **kwargs)\u001b[39m\n\u001b[32m    972\u001b[39m p = parser(\n\u001b[32m    973\u001b[39m     io,\n\u001b[32m    974\u001b[39m     compiled_match,\n\u001b[32m   (...)\u001b[39m\u001b[32m    979\u001b[39m     storage_options,\n\u001b[32m    980\u001b[39m )\n\u001b[32m    982\u001b[39m \u001b[38;5;28;01mtry\u001b[39;00m:\n\u001b[32m--> \u001b[39m\u001b[32m983\u001b[39m     tables = p.parse_tables()\n\u001b[32m    984\u001b[39m \u001b[38;5;28;01mexcept\u001b[39;00m \u001b[38;5;167;01mValueError\u001b[39;00m \u001b[38;5;28;01mas\u001b[39;00m caught:\n\u001b[32m    985\u001b[39m     \u001b[38;5;66;03m# if `io` is an io-like object, check if it's seekable\u001b[39;00m\n\u001b[32m    986\u001b[39m     \u001b[38;5;66;03m# and try to rewind it before trying the next parser\u001b[39;00m\n\u001b[32m    987\u001b[39m     \u001b[38;5;28;01mif\u001b[39;00m \u001b[38;5;28mhasattr\u001b[39m(io, \u001b[33m\"\u001b[39m\u001b[33mseekable\u001b[39m\u001b[33m\"\u001b[39m) \u001b[38;5;129;01mand\u001b[39;00m io.seekable():\n",
      "\u001b[36mFile \u001b[39m\u001b[32mC:\\Users\\school\\anaconda3\\envs\\selenium\\Lib\\site-packages\\pandas\\io\\html.py:249\u001b[39m, in \u001b[36m_HtmlFrameParser.parse_tables\u001b[39m\u001b[34m(self)\u001b[39m\n\u001b[32m    241\u001b[39m \u001b[38;5;28;01mdef\u001b[39;00m\u001b[38;5;250m \u001b[39m\u001b[34mparse_tables\u001b[39m(\u001b[38;5;28mself\u001b[39m):\n\u001b[32m    242\u001b[39m \u001b[38;5;250m    \u001b[39m\u001b[33;03m\"\"\"\u001b[39;00m\n\u001b[32m    243\u001b[39m \u001b[33;03m    Parse and return all tables from the DOM.\u001b[39;00m\n\u001b[32m    244\u001b[39m \n\u001b[32m   (...)\u001b[39m\u001b[32m    247\u001b[39m \u001b[33;03m    list of parsed (header, body, footer) tuples from tables.\u001b[39;00m\n\u001b[32m    248\u001b[39m \u001b[33;03m    \"\"\"\u001b[39;00m\n\u001b[32m--> \u001b[39m\u001b[32m249\u001b[39m     tables = \u001b[38;5;28mself\u001b[39m._parse_tables(\u001b[38;5;28mself\u001b[39m._build_doc(), \u001b[38;5;28mself\u001b[39m.match, \u001b[38;5;28mself\u001b[39m.attrs)\n\u001b[32m    250\u001b[39m     \u001b[38;5;28;01mreturn\u001b[39;00m (\u001b[38;5;28mself\u001b[39m._parse_thead_tbody_tfoot(table) \u001b[38;5;28;01mfor\u001b[39;00m table \u001b[38;5;129;01min\u001b[39;00m tables)\n",
      "\u001b[36mFile \u001b[39m\u001b[32mC:\\Users\\school\\anaconda3\\envs\\selenium\\Lib\\site-packages\\pandas\\io\\html.py:791\u001b[39m, in \u001b[36m_LxmlFrameParser._build_doc\u001b[39m\u001b[34m(self)\u001b[39m\n\u001b[32m    788\u001b[39m         r = parse(f.handle, parser=parser)\n\u001b[32m    789\u001b[39m \u001b[38;5;28;01melse\u001b[39;00m:\n\u001b[32m    790\u001b[39m     \u001b[38;5;66;03m# try to parse the input in the simplest way\u001b[39;00m\n\u001b[32m--> \u001b[39m\u001b[32m791\u001b[39m     r = parse(\u001b[38;5;28mself\u001b[39m.io, parser=parser)\n\u001b[32m    792\u001b[39m \u001b[38;5;28;01mtry\u001b[39;00m:\n\u001b[32m    793\u001b[39m     r = r.getroot()\n",
      "\u001b[36mFile \u001b[39m\u001b[32mC:\\Users\\school\\anaconda3\\envs\\selenium\\Lib\\site-packages\\lxml\\html\\__init__.py:914\u001b[39m, in \u001b[36mparse\u001b[39m\u001b[34m(filename_or_url, parser, base_url, **kw)\u001b[39m\n\u001b[32m    912\u001b[39m \u001b[38;5;28;01mif\u001b[39;00m parser \u001b[38;5;129;01mis\u001b[39;00m \u001b[38;5;28;01mNone\u001b[39;00m:\n\u001b[32m    913\u001b[39m     parser = html_parser\n\u001b[32m--> \u001b[39m\u001b[32m914\u001b[39m \u001b[38;5;28;01mreturn\u001b[39;00m etree.parse(filename_or_url, parser, base_url=base_url, **kw)\n",
      "\u001b[36mFile \u001b[39m\u001b[32msrc\\\\lxml\\\\etree.pyx:3589\u001b[39m, in \u001b[36mlxml.etree.parse\u001b[39m\u001b[34m()\u001b[39m\n",
      "\u001b[36mFile \u001b[39m\u001b[32msrc\\\\lxml\\\\parser.pxi:1981\u001b[39m, in \u001b[36mlxml.etree._parseDocument\u001b[39m\u001b[34m()\u001b[39m\n",
      "\u001b[31mTypeError\u001b[39m: cannot parse from 'WebElement'"
     ]
    }
   ],
   "source": [
    "  tournament_URL = f'https://www.mtggoldfish.com/tournament/pro-tour-aetherdrift?page={1}#paper'\n",
    "  driver.get( tournament_URL )\n",
    "  df_1 = grab_tournament()"
   ]
  },
  {
   "cell_type": "code",
   "execution_count": null,
   "id": "0b40b965-3bbe-45ba-800d-88a1eeb0b3a8",
   "metadata": {
    "editable": true,
    "slideshow": {
     "slide_type": ""
    },
    "tags": []
   },
   "outputs": [],
   "source": [
    "''' OLD SCRAPE '''\n",
    "for i in range(4):\n",
    "  tournament_URL = f'https://www.mtggoldfish.com/tournament/pro-tour-aetherdrift?page={i+2}#paper'\n",
    "  driver.get( tournament_URL )\n",
    "  pause_update(15, start = f'checking page {i+2}')\n",
    "\n",
    "  tournament_tables.append( grab_tournament() )\n",
    "  expand_deck_lists()\n",
    "  pause_update(120, start = f'deck list expanded: ')\n",
    "  deck_lists.append( grab_decks() )\n",
    "  new_cards = grab_cards()\n",
    "  pause_update(15, start = f'deck lists grabbed' )\n",
    "  print_refresh(f'Dictionary Updating')\n",
    "  for card in new_cards:\n",
    "    if card.text not in card_dictionary.keys():\n",
    "      card_dictionary[card.text] = (\n",
    "          card.find_element(By.TAG_NAME, 'a').get_attribute('href')\n",
    "      )\n",
    "      pause_update(3, start= f'adding {card.text}', end = f' dictionary updated: {len(card_dictionary)} unique cards')\n",
    "  \n",
    "  # check next page\n",
    "  pause_update( 30+randrange(30), start = f' checking page {i+2}' )\n",
    "  \n",
    "print(f'Finished: {len(card_dictionary)} vs 402 for Final Fantasy Pro Tour vs 492 for Aetherdrift')"
   ]
  },
  {
   "cell_type": "code",
   "execution_count": null,
   "id": "94fcd8ed-2740-40e3-86dc-4663861f800f",
   "metadata": {},
   "outputs": [],
   "source": [
    "for table in tournament_tables:\n",
    "  for line in table.split('\\n'):\n",
    "    pause_update( 2, start = f'{line} ' )"
   ]
  },
  {
   "cell_type": "code",
   "execution_count": null,
   "id": "5ea246e1-26bd-4313-a185-618d3c184de7",
   "metadata": {},
   "outputs": [],
   "source": [
    "#  card_dictionary={}\n",
    "#  pause_update(90, start= f'load next page in ')"
   ]
  },
  {
   "cell_type": "code",
   "execution_count": null,
   "id": "5aafa613-c517-427f-b049-1c9cc7a848b4",
   "metadata": {
    "editable": true,
    "slideshow": {
     "slide_type": ""
    },
    "tags": []
   },
   "outputs": [],
   "source": [
    "print(f'{len(card_dictionary)} vs 402 for Final Fantasy Pro Tour')"
   ]
  },
  {
   "cell_type": "code",
   "execution_count": null,
   "id": "3a855c98-00ce-43ba-bf6d-4a30f72aa52d",
   "metadata": {},
   "outputs": [],
   "source": [
    "type( grab_decks() )"
   ]
  },
  {
   "cell_type": "code",
   "execution_count": null,
   "id": "44fd0e22-cb68-4bbd-a855-589ea2e6d793",
   "metadata": {},
   "outputs": [],
   "source": [
    "'''\n",
    "print('Dictionary Updating')\n",
    "for card in cards:\n",
    "  if card not in card_list.keys():\n",
    "    card_list[card.text] = card.find_element(By.TAG_NAME, 'a').get_attribute('href')\n",
    "\n",
    "print('dictionary updated')\n",
    "print( len(card_list) )\n",
    "'''"
   ]
  },
  {
   "cell_type": "code",
   "execution_count": null,
   "id": "23222cdb-c0aa-40d4-a464-4d5c835774f3",
   "metadata": {
    "scrolled": true
   },
   "outputs": [],
   "source": [
    "card_dictionary"
   ]
  },
  {
   "cell_type": "code",
   "execution_count": null,
   "id": "8dd00c1b-07fb-4a69-99f8-e22e3fb32fc7",
   "metadata": {},
   "outputs": [],
   "source": [
    "driver.get(card_dictionary['Manifold Mouse'])"
   ]
  },
  {
   "cell_type": "code",
   "execution_count": null,
   "id": "f30d94e6-37c5-4d8a-9c8e-e673040f27ec",
   "metadata": {
    "editable": true,
    "slideshow": {
     "slide_type": ""
    },
    "tags": []
   },
   "outputs": [],
   "source": [
    "test = driver.find_element(\n",
    "    By.CLASS_NAME, \n",
    "    'price-history-download-container'\n",
    ").find_element( By.TAG_NAME, 'a').get_attribute('href')"
   ]
  },
  {
   "cell_type": "code",
   "execution_count": null,
   "id": "ce5e5901-693b-46de-9689-ce681324e599",
   "metadata": {
    "scrolled": true
   },
   "outputs": [],
   "source": [
    "for card_name in card_dictionary.keys():\n",
    "  i = len(already_downloaded)\n",
    "  if card_name not in already_downloaded:\n",
    "    status = f'fetching the #{i+1} card csv price data for {card_name}: '\n",
    "    pause_update( 10 + randrange(7), start=status )\n",
    "    driver.get( card_dictionary[card_name] )\n",
    "    pause_update( 10 + randrange(9), start = 'loading site ' )\n",
    "    \n",
    "    already_downloaded.append(card_name)\n",
    "    status = 'downloaded list updated '\n",
    "    pause_update( 5, start = status )\n",
    "\n",
    "    '''\n",
    "    download_button = driver.find_element(\n",
    "        By.CLASS_NAME, 'price-history-download-container'\n",
    "    )\n",
    "    download_button.click()\n",
    "    '''\n",
    "    \n",
    "    price_csv_url = driver.find_element(\n",
    "      By.CLASS_NAME, 'price-history-download-container'\n",
    "    ).find_element( By.TAG_NAME, 'a').get_attribute('href')\n",
    "    driver.get( price_csv_url )\n",
    "    \n",
    "\n",
    "    status = f'data for {card_name} fetched '\n",
    "    pause_update(5, start = status)\n",
    "\n",
    "print_refresh('finished')\n"
   ]
  },
  {
   "cell_type": "code",
   "execution_count": null,
   "id": "b4a30741-c943-494f-8bcf-f23bea766fb4",
   "metadata": {},
   "outputs": [],
   "source": [
    "# already_downloaded = already_downloaded[:-6]\n",
    "len(already_downloaded)"
   ]
  },
  {
   "cell_type": "code",
   "execution_count": null,
   "id": "b659ed6f-e62e-4bfc-9c5b-fa52b05a3843",
   "metadata": {},
   "outputs": [],
   "source": [
    "# uncomment and run when finished or close browser manually.\n",
    "# driver.close()\n",
    "need_to_download = []\n",
    "for card_name in card_dictionary:\n",
    "  if card_name not in already_downloaded:\n",
    "    need_to_download.append(card_name)"
   ]
  },
  {
   "cell_type": "code",
   "execution_count": null,
   "id": "d9139a8a-d21c-40f3-ab6e-f4cb7646cf32",
   "metadata": {},
   "outputs": [],
   "source": [
    "len(card_dictionary)"
   ]
  },
  {
   "cell_type": "code",
   "execution_count": null,
   "id": "8b5bf1eb-7c36-48ac-aabf-fbe1427aedf3",
   "metadata": {
    "scrolled": true
   },
   "outputs": [],
   "source": [
    "for index, card_name in enumerate(need_to_download):\n",
    "  print_refresh( card_dictionary[card_name] )\n",
    "  input('continue?')\n",
    "  already_downloaded.append(card_name)"
   ]
  },
  {
   "cell_type": "code",
   "execution_count": null,
   "id": "93813d7b-3ff3-4e3d-b501-36e17dce70d3",
   "metadata": {
    "scrolled": true
   },
   "outputs": [],
   "source": [
    "card_dictionary[\"Dion, Bahamut's Dominant\"]"
   ]
  },
  {
   "cell_type": "code",
   "execution_count": null,
   "id": "c0155b77-6f8c-4e9a-9f0a-d61457855f5d",
   "metadata": {},
   "outputs": [],
   "source": [
    "len(already_downloaded)"
   ]
  },
  {
   "cell_type": "code",
   "execution_count": null,
   "id": "b663272b-8af9-45bd-8751-6eec69021e36",
   "metadata": {},
   "outputs": [],
   "source": [
    "'''\n",
    "k = 0\n",
    "while 'no' != input(\"Are you sure you want to start this?\").lower() :\n",
    "  for i in range(5):\n",
    "    print_refresh(f'{k} minutes and {i} seconds have passed')\n",
    "    sleep(1)\n",
    "  k += 1\n",
    "  if k > 2:\n",
    "    break\n",
    "'''"
   ]
  },
  {
   "cell_type": "code",
   "execution_count": null,
   "id": "67c28732-c749-44a1-ba48-43c74a6752fc",
   "metadata": {},
   "outputs": [],
   "source": [
    "with open('../checked_cards', 'a') as card_links:\n",
    "  for card, link in card_dictionary.items():\n",
    "      card_links.write( f\"'{card}'\\n\" )"
   ]
  }
 ],
 "metadata": {
  "kernelspec": {
   "display_name": "Python [conda env:selenium]",
   "language": "python",
   "name": "conda-env-selenium-py"
  },
  "language_info": {
   "codemirror_mode": {
    "name": "ipython",
    "version": 3
   },
   "file_extension": ".py",
   "mimetype": "text/x-python",
   "name": "python",
   "nbconvert_exporter": "python",
   "pygments_lexer": "ipython3",
   "version": "3.11.13"
  }
 },
 "nbformat": 4,
 "nbformat_minor": 5
}
