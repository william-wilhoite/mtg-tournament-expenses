{
 "cells": [
  {
   "cell_type": "code",
   "execution_count": 12,
   "id": "1c70d534-a07a-4e70-ba6c-a401b3b87327",
   "metadata": {},
   "outputs": [],
   "source": [
    "import requests\n",
    "from time     import sleep\n",
    "from selenium import webdriver\n",
    "from bs4      import BeautifulSoup as BS\n",
    "from selenium.webdriver.common.by import By\n",
    "from random import randrange"
   ]
  },
  {
   "cell_type": "code",
   "execution_count": 2,
   "id": "bb6a201e-693d-4524-a7ea-f24f5eedb167",
   "metadata": {
    "editable": true,
    "slideshow": {
     "slide_type": ""
    },
    "tags": []
   },
   "outputs": [],
   "source": [
    "# https://itnext.io/overwrite-previously-printed-lines-4218a9563527\n",
    "def print_refresh(string):\n",
    "    print(string, \n",
    "          '\\t\\t\\t\\t\\t\\t\\t\\t\\t\\t\\t\\t',\n",
    "          end='\\r', \n",
    "          flush = True\n",
    "         )\n",
    "\n",
    "def pause_update(n, start='', end=''):\n",
    "    for i in range(n):\n",
    "        print_refresh(f'{start} Waiting {n} seconds: {n-i} seconds remaining{end}')\n",
    "        sleep(1)\n",
    "    print_refresh(f'{start}Finished with {n} second wait{end}')\n"
   ]
  },
  {
   "cell_type": "code",
   "execution_count": 20,
   "id": "f729b794-e5ba-438f-88b5-2dbd8611867a",
   "metadata": {},
   "outputs": [],
   "source": [
    "''' Expand Deck Lists '''\n",
    "def expand_deck_lists():\n",
    "  button = driver.find_element( \n",
    "      By.CLASS_NAME, 'tournament-decklist-collapse'\n",
    "  )\n",
    "  button.click()\n",
    "  print_refresh(f'expansion click finished')\n",
    "  #wait.until(lambda _ : revealed.is_displayed() )\n",
    "  #pause_update(120)"
   ]
  },
  {
   "cell_type": "code",
   "execution_count": 4,
   "id": "623d0393-1f9f-442c-9873-1af66adafacd",
   "metadata": {},
   "outputs": [],
   "source": [
    "''' Find all cards '''\n",
    "def grab_cards():\n",
    "    temp = driver.find_elements( By.CLASS_NAME, 'card_name' )\n",
    "    print( len(temp), 'cards found' )\n",
    "    pause_update(3)\n",
    "    return temp"
   ]
  },
  {
   "cell_type": "markdown",
   "id": "ccb32afd-9cd0-4cf6-aed4-d6e24a0cffe2",
   "metadata": {},
   "source": [
    "## Preample Variables"
   ]
  },
  {
   "cell_type": "code",
   "execution_count": 5,
   "id": "b171c7c6-b1a8-437b-b637-617d8cddccc4",
   "metadata": {},
   "outputs": [],
   "source": [
    "card_dictionary = {}"
   ]
  },
  {
   "cell_type": "code",
   "execution_count": 7,
   "id": "c0638f68-18a5-47a8-8f4f-7285d2f6e8d9",
   "metadata": {},
   "outputs": [],
   "source": [
    "events = [ # {'event page name' : number of pages}\n",
    "            {'mythic-championship-vi'          : 5} ,\n",
    "            {'mythic-championship-1-cleveland' : 2} ,\n",
    "            {'pro-tour-guilds-of-ravnica'      : 2} ,\n",
    "            {'pro-tour-dominaria'              : 2} ,\n",
    "            {'pro-tour-ixalan'                 : 2} ,\n",
    "            {'pro-tour-hour-of-devastation'    : 2} ,\n",
    "            {'pro-tour-amonkhet'               : 2} ,\n",
    "            {'pro-tour-aether-revolt'          : 2} ,\n",
    "            {'pro-tour-kaladesh'               : 2} ,\n",
    "            {'pro-tour-eldritch-moon'          : 1} ,\n",
    "            {'pro-tour-shadows-over-innistrad' : 2} ,\n",
    "            {'pro-tour-battle-for-zendikar'    : 1} ,\n",
    "]"
   ]
  },
  {
   "cell_type": "code",
   "execution_count": 8,
   "id": "94de10db-77d7-4798-8c13-86ff86e3edf3",
   "metadata": {},
   "outputs": [],
   "source": [
    "downloaded = []\n",
    "with open('./logs/downloaded.list') as fi:\n",
    "  for line in fi:\n",
    "    downloaded.append( line.strip().strip(\"'\") )"
   ]
  },
  {
   "cell_type": "markdown",
   "id": "f10c98b5-938e-4090-b8c2-f5a5ffe9c795",
   "metadata": {},
   "source": [
    "## Scrape"
   ]
  },
  {
   "cell_type": "code",
   "execution_count": 29,
   "id": "8a1079fb-1f06-4bac-93c9-4b946e89b795",
   "metadata": {},
   "outputs": [
    {
     "name": "stdout",
     "output_type": "stream",
     "text": [
      "Driver Initiated\n"
     ]
    }
   ],
   "source": [
    "''' Initialize WebDriver '''\n",
    "driver = webdriver.Chrome()\n",
    "driver.implicitly_wait(10)\n",
    "driver.set_page_load_timeout(60)\n",
    "driver.get('https://www.mtggoldfish.com/')\n",
    "print('Driver Initiated')"
   ]
  },
  {
   "cell_type": "code",
   "execution_count": 16,
   "id": "3edfbc30-da50-42fc-8ebd-8ac8d2db0fab",
   "metadata": {},
   "outputs": [
    {
     "data": {
      "text/plain": [
       "[{'mythic-championship-vi': 5},\n",
       " {'mythic-championship-1-cleveland': 2},\n",
       " {'pro-tour-guilds-of-ravnica': 2},\n",
       " {'pro-tour-dominaria': 2},\n",
       " {'pro-tour-ixalan': 2},\n",
       " {'pro-tour-hour-of-devastation': 2},\n",
       " {'pro-tour-amonkhet': 2},\n",
       " {'pro-tour-aether-revolt': 2},\n",
       " {'pro-tour-kaladesh': 2},\n",
       " {'pro-tour-eldritch-moon': 1},\n",
       " {'pro-tour-shadows-over-innistrad': 2},\n",
       " {'pro-tour-battle-for-zendikar': 1}]"
      ]
     },
     "execution_count": 16,
     "metadata": {},
     "output_type": "execute_result"
    }
   ],
   "source": [
    "new_events = events\n",
    "new_events"
   ]
  },
  {
   "cell_type": "code",
   "execution_count": 24,
   "id": "0b40b965-3bbe-45ba-800d-88a1eeb0b3a8",
   "metadata": {
    "editable": true,
    "slideshow": {
     "slide_type": ""
    },
    "tags": []
   },
   "outputs": [
    {
     "name": "stdout",
     "output_type": "stream",
     "text": [
      "2614 cards foundhip-vi pg 1 deck list expanded: Finished with 33 second wait \t\t\t\t\t\t\t\t\t\t\t\t\t\t\t\t\t\t\t\t\t\t\t\t\t\n",
      "43 cards foundnship-vi pg 2 deck list expanded: Finished with 43 second wait \t\t\t\t\t\t\t\t\t\t\t\t\t\t\t\t\t\t\t\t\t\t\t\t\t\n",
      "2648 cards foundhip-vi pg 3 deck list expanded: Finished with 31 second wait \t\t\t\t\t\t\t\t\t\t\t\t\t\t\t\t\t\t\t\t\t\t\t\t\t\n",
      "43 cards foundnship-vi pg 4 deck list expanded: Finished with 39 second wait \t\t\t\t\t\t\t\t\t\t\t\t\t\t\t\t\t\t\t\t\t\t\t\t\t\n",
      "2532 cards foundhip-vi pg 5 deck list expanded: Finished with 42 second wait \t\t\t\t\t\t\t\t\t\t\t\t\t\t\t\t\t\t\t\t\t\t\t\t\t\n",
      "2526 cards foundhip-1-cleveland pg 1 deck list expanded: Finished with 39 second wait \t\t\t\t\t\t\t\t\t\t\t\t\t\t\t\t\t\t\t\t\t\t\t\t\t\n",
      "1017 cards foundhip-1-cleveland pg 2 deck list expanded: Finished with 34 second wait \t\t\t\t\t\t\t\t\t\t\t\t\t\t\t\t\t\t\t\t\t\t\t\t\t\t\t\t\t\t\t\t\t\t\t\t\t\n",
      "2505 cards foundof-ravnica pg 1 deck list expanded: Finished with 43 second wait \t\t\t\t\t\t\t\t\t\t\t\t\t\t\t\t\t\t\t\t\t\t\t\t\t\t\t\t\t\t\t\t\t\t\t\t\n",
      "1569 cards foundof-ravnica pg 2 deck list expanded: Finished with 43 second wait \t\t\t\t\t\t\t\t\t\t\t\t\t\t\t\t\t\t\t\t\t\t\t\t\t\t\t\t\t\t\t\t\t\t\t\t\t\t\t\t\t\n",
      "2737 cards foundia pg 1 deck list expanded: Finished with 33 second wait \t\t\t\t\t\t\t\t\t\t\t\t\t\t\t\t\t\t\t\t\t\t\t\t\t\t\t\t\t\t\t\t\t\t\t\t\t\t\t\t\t\t\t\t\t\n",
      "1146 cards foundia pg 2 deck list expanded: Finished with 39 second wait \t\t\t\t\t\t\t\t\t\t\t\t\t\t\t\t\t\t\t\t\t\t\t\t\t\t\t\t\t\t\t\t\t\t\t\t\t\t\t\t\t\t\t\t\t\t\t\t\t\t\t\t\n",
      "2794 cards foundpg 1 deck list expanded: Finished with 37 second wait \t\t\t\t\t\t\t\t\t\t\t\t\t\t\t\t\t\t\t\t\t\t\t\t\t\t\t\t\t\t\t\t\t\t\t\t\t\t\t\t\t\t\t\t\t\t\t\t\t\t\t\t\t\t\t\t\t\t\n",
      "561 cards found pg 2 deck list expanded: Finished with 35 second wait \t\t\t\t\t\t\t\t\t\t\t\t\t\t\t\t\t\t\t\t\t\t\t\t\t\t\t\t\t\t\t\t\t\t\t\t\t\t\t\t\t\t\t\t\t\t\t\t\t\t\t\t\t\t\t\t\t\n",
      "2549 cards found-devastation pg 1 deck list expanded: Finished with 30 second wait \t\t\t\t\t\t\t\t\t\t\t\t\t\t\t\t\t\t\t\t\t\t\t\t\t\t\t\t\t\t\t\t\t\n",
      "869 cards foundf-devastation pg 2 deck list expanded: Finished with 38 second wait \t\t\t\t\t\t\t\t\t\t\t\t\t\t\t\t\t\t\t\t\t\t\t\t\t\t\t\t\t\t\t\t\t\t\t\t\t\t\t\t\t\t\n",
      "2609 cards foundt pg 1 deck list expanded: Finished with 41 second wait \t\t\t\t\t\t\t\t\t\t\t\t\t\t\t\t\t\t\t\t\t\t\t\t\t\t\t\t\t\t\t\t\t\t\t\t\t\t\t\t\t\t\t\t\t\t\t\n",
      "569 cards foundet pg 2 deck list expanded: Finished with 30 second wait \t\t\t\t\t\t\t\t\t\t\t\t\t\t\t\t\t\t\t\t\t\t\t\t\t\t\t\t\t\t\t\t\t\t\t\t\t\t\t\t\t\t\t\t\t\t\t\t\n",
      "2777 cards foundrevolt pg 1 deck list expanded: Finished with 34 second wait \t\t\t\t\t\t\t\t\t\t\t\t\t\t\t\t\t\t\t\t\t\t\t\t\t\t\t\t\t\t\t\t\t\t\t\t\n",
      "537 cards found-revolt pg 2 deck list expanded: Finished with 44 second wait \t\t\t\t\t\t\t\t\t\t\t\t\t\t\t\t\t\t\t\t\t\t\t\t\t\t\t\t\t\t\t\t\t\t\t\t\t\t\t\t\t\t\t\t\n",
      "2555 cards foundh pg 1 deck list expanded: Finished with 35 second wait \t\t\t\t\t\t\t\t\t\t\t\t\t\t\t\t\t\t\t\t\t\t\t\t\t\t\t\t\t\t\t\t\t\t\t\t\t\t\t\t\t\t\t\t\t\t\t\t\t\t\t\t\n",
      "1258 cards foundh pg 2 deck list expanded: Finished with 32 second wait \t\t\t\t\t\t\t\t\t\t\t\t\t\t\t\t\t\t\t\t\t\t\t\t\t\t\t\t\t\t\t\t\t\t\t\t\t\t\t\t\t\t\t\t\t\t\t\t\t\t\t\t\t\t\t\n",
      "2410 cards foundh-moon pg 1 deck list expanded: Finished with 36 second wait \t\t\t\t\t\t\t\t\t\t\t\t\t\t\t\t\t\t\t\t\t\t\t\t\t\t\t\t\t\t\t\t\t\t\t\t\t\t\t\t\t\t\n",
      "2644 cards found-over-innistrad pg 1 deck list expanded: Finished with 42 second wait \t\t\t\t\t\t\t\t\t\t\t\t\t\t\t\t\t\t\t\t\t\t\t\t\t\t\t\t\t\t\t\t\t\t\t\t\t\n",
      "302 cards founds-over-innistrad pg 2 deck list expanded: Finished with 32 second wait \t\t\t\t\t\t\t\t\t\t\t\t\t\t\t\t\t\t\t\t\t\t\t\t\t\t\t\t\t\t\t\t\t\t\t\t\t\t\t\n",
      "2880 cards foundfor-zendikar pg 1 deck list expanded: Finished with 41 second wait \t\t\t\t\t\t\t\t\t\t\t\t\t\t\t\t\t\t\t\t\t\t\t\t\t\t\t\t\n",
      "finished page 1 of 1 for pro-tour-battle-for-zendikar Finished with 39 second wait \t\t\t\t\t\t\t\t\t\t\t\t\t\t\t\t\t\t\t\t\t\t\t\t\t\t\t\t\t\t\t\t\t\t\t\t\t\t\t\t\t\t\r"
     ]
    }
   ],
   "source": [
    "''' Begin Scraping '''\n",
    "for dictionary in new_events:\n",
    "  pause_update(30+randrange(15), start = f'preparing for next event')\n",
    "\n",
    "  event_cards=[]\n",
    "  for event, pages in dictionary.items():\n",
    "    with open(f'./logs/{event}.cards', 'w') as fi:\n",
    "      pass\n",
    "    \n",
    "    for page in range( pages ):\n",
    "      tournament_URL = f'https://www.mtggoldfish.com/tournament/{event}?page={page+1}#paper'\n",
    "      driver.get( tournament_URL )\n",
    "      pause_update(30+randrange(15), start = f'checking {event} pg {page+1}')\n",
    "\n",
    "      expand_deck_lists()\n",
    "      pause_update(30+randrange(15), start = f'{event} pg {page+1} deck list expanded: ')\n",
    "\n",
    "      cards = grab_cards()\n",
    "      pause_update(15, start = f'{event} pg {page+1} cards grabbed' )\n",
    "\n",
    "      for card in cards:\n",
    "        if card mot in event_cards:\n",
    "          event_cards.append( card )\n",
    "          with open(f'./logs/{event}.cards', 'a') as fi:\n",
    "            fi.write(f'{card.text}'\\n)\n",
    "            \n",
    "        if card.text not in card_dictionary.keys():\n",
    "          card_dictionary[card.text] = (\n",
    "              card.find_element(By.TAG_NAME, 'a').get_attribute('href')\n",
    "          )\n",
    "          pause_update(3, start= f'adding {card.text}', end = f' dictionary updated: {len(card_dictionary)} unique cards')\n",
    "  \n",
    "      # check next page\n",
    "      pause_update( 30+randrange(30), start = f'finished page {page+1} of {pages} for {event} ' )\n",
    "\n",
    "    with open('./logs/card_grabbed_events.log', 'a') as log:\n",
    "      log.write(f'{event}\\n')"
   ]
  },
  {
   "cell_type": "markdown",
   "id": "5571ee48-0f5a-4929-95bc-a4be3decb612",
   "metadata": {},
   "source": [
    "## Write to List for Event"
   ]
  },
  {
   "cell_type": "code",
   "execution_count": null,
   "id": "92382922-5018-45bd-8f1b-90e0b10222f5",
   "metadata": {},
   "outputs": [],
   "source": [
    "for cardname in card_dictionary.keys():\n",
    "  with open(f'../{event}.cards', 'a') as fi:\n",
    "    fi.write( f'{cardname}\\n' )"
   ]
  },
  {
   "cell_type": "markdown",
   "id": "081446ad-782c-4bdf-8b89-b59493108a90",
   "metadata": {},
   "source": [
    "## Check Against Already Downloaded Cards"
   ]
  },
  {
   "cell_type": "code",
   "execution_count": 25,
   "id": "61fb674b-26ff-4e4a-b05d-33c7c16e184d",
   "metadata": {},
   "outputs": [
    {
     "name": "stdout",
     "output_type": "stream",
     "text": [
      "988\n",
      "1333 ?= 988 + 1285\n"
     ]
    }
   ],
   "source": [
    "\n",
    "\n",
    "print( len(downloaded) )\n",
    "\n",
    "undownloaded_cards = []\n",
    "for card in card_dictionary.keys():\n",
    "  if card not in downloaded:\n",
    "    undownloaded_cards.append( card )\n",
    "\n",
    "print( f'{len( card_dictionary.keys() )} ?= {len( downloaded )} + {len( undownloaded_cards )}' )"
   ]
  },
  {
   "cell_type": "markdown",
   "id": "c79c4607-109f-43e7-998a-65b89c959771",
   "metadata": {},
   "source": [
    "## CSV Fetch for Event"
   ]
  },
  {
   "cell_type": "code",
   "execution_count": 26,
   "id": "6d5e818e-71a0-4a8d-82b6-65715bbd84bb",
   "metadata": {},
   "outputs": [],
   "source": [
    "just_downloaded = []"
   ]
  },
  {
   "cell_type": "code",
   "execution_count": 30,
   "id": "aefc1e7c-d6bd-4631-b4ac-93799cd1b032",
   "metadata": {
    "scrolled": true
   },
   "outputs": [
    {
     "name": "stdin",
     "output_type": "stream",
     "text": [
      "make sure you have logged in to MTG Goldfish and switched downloaded folders, then press enter \n"
     ]
    },
    {
     "name": "stdout",
     "output_type": "stream",
     "text": [
      "finished \t\t\t\t\t\t\t\t\t\t\t\tFull Moon fetched, card 1285 of 1285 Finished with 10 second wait \t\t\t\t\t\t\t\t\t\t\t\t\t\t\t\t\t\t\t\t\t\t\t\t\t\t\t\t\t\t\t\t\t\t\t\t\t\t\t\t\t\t\t\t\t\t\t\t\t\t\t\t\t\t\t\t\t\t\t\t \t\t\t\t\t\t\t\t\t\t\t\t \t\t\t\t\t\t\t\t\t\t\t\t\r"
     ]
    }
   ],
   "source": [
    "n = len(undownloaded_cards)\n",
    "\n",
    "input('make sure you have logged in to MTG Goldfish and switched downloaded folders, then press enter')\n",
    "\n",
    "for i, card_name in enumerate(undownloaded_cards):\n",
    "  if card_name not in just_downloaded:\n",
    "    status = f'fetching the #{i+1} of {n} card csv price data for {card_name}: '\n",
    "    pause_update( 10 + randrange(5), start=status )\n",
    "    driver.get( card_dictionary[card_name] )\n",
    "    pause_update( 10 + randrange(5), start = f'loading site {card_name}, number {i+1} of {n}' )\n",
    "    \n",
    "    status = f'fetching {card_name}, {i+1} of {n} cards'\n",
    "    pause_update( 10 + randrange(5), start = status )\n",
    "    \n",
    "\n",
    "    price_csv_url = driver.find_element(\n",
    "      By.CLASS_NAME, 'price-history-download-container'\n",
    "    ).find_element( By.TAG_NAME, 'a').get_attribute('href')\n",
    "    driver.get( price_csv_url )\n",
    "\n",
    "    status = f'data for {card_name} fetched, card {i+1} of {n} '\n",
    "    just_downloaded.append(card_name)\n",
    "    with open('./logs/downloaded.list', 'a') as log:\n",
    "      log.write( f'{card_name}\\n' )\n",
    "    pause_update(10 + randrange(5), start = status)\n",
    "\n",
    "print_refresh('finished')"
   ]
  }
 ],
 "metadata": {
  "kernelspec": {
   "display_name": "Python [conda env:selenium]",
   "language": "python",
   "name": "conda-env-selenium-py"
  },
  "language_info": {
   "codemirror_mode": {
    "name": "ipython",
    "version": 3
   },
   "file_extension": ".py",
   "mimetype": "text/x-python",
   "name": "python",
   "nbconvert_exporter": "python",
   "pygments_lexer": "ipython3",
   "version": "3.11.13"
  }
 },
 "nbformat": 4,
 "nbformat_minor": 5
}
