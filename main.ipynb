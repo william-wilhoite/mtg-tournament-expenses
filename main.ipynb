{
 "cells": [
  {
   "cell_type": "code",
   "execution_count": null,
   "id": "a23abf3b-f1d7-449b-ad2b-63317809218a",
   "metadata": {},
   "outputs": [],
   "source": [
    "import pandas as pd\n",
    "import sqlalchemy\n",
    "import requests\n",
    "import re\n",
    "from io   import StringIO\n",
    "from bs4  import BeautifulSoup as BS\n",
    "from time import sleep"
   ]
  },
  {
   "cell_type": "code",
   "execution_count": 1,
   "id": "88f5ba40-bfbc-482e-9972-159a4c72f577",
   "metadata": {
    "editable": true,
    "slideshow": {
     "slide_type": ""
    },
    "tags": []
   },
   "outputs": [
    {
     "ename": "ModuleNotFoundError",
     "evalue": "No module named 'sqlalchemy_utils'",
     "output_type": "error",
     "traceback": [
      "\u001b[1;31m---------------------------------------------------------------------------\u001b[0m",
      "\u001b[1;31mModuleNotFoundError\u001b[0m                       Traceback (most recent call last)",
      "Cell \u001b[1;32mIn[1], line 1\u001b[0m\n\u001b[1;32m----> 1\u001b[0m \u001b[38;5;28;01mfrom\u001b[39;00m \u001b[38;5;21;01msqlalchemy_utils\u001b[39;00m \u001b[38;5;28;01mimport\u001b[39;00m database_exists, create_database\n",
      "\u001b[1;31mModuleNotFoundError\u001b[0m: No module named 'sqlalchemy_utils'"
     ]
    }
   ],
   "source": [
    "from sqlalchemy_utils import database_exists, create_database"
   ]
  },
  {
   "cell_type": "code",
   "execution_count": null,
   "id": "a60572e4-96f0-4e39-b67d-e6eef92dcc94",
   "metadata": {},
   "outputs": [],
   "source": [
    "URL = 'https://www.mtggoldfish.com/tournament/pro-tour-final-fantasy#paper'\n",
    "\n",
    "response = requests.get(URL)\n",
    "response.status_code\n",
    "\n",
    "sleep(30)"
   ]
  },
  {
   "cell_type": "code",
   "execution_count": null,
   "id": "3b8c606d-0291-41f7-a3e5-08f8d803b667",
   "metadata": {},
   "outputs": [],
   "source": [
    "'''\n",
    "URL5 = 'https://www.mtggoldfish.com/tournament/pro-tour-final-fantasy?page=5'\n",
    "\n",
    "response5 = requests.get(URL)\n",
    "response5.status_code\n",
    "\n",
    "sleep(30)\n",
    "'''"
   ]
  },
  {
   "cell_type": "code",
   "execution_count": null,
   "id": "c58b5408-be26-4c85-8854-ee93ce3ca088",
   "metadata": {
    "scrolled": true
   },
   "outputs": [],
   "source": [
    "soup = BS(response.text)\n",
    "print(soup.prettify())"
   ]
  },
  {
   "cell_type": "code",
   "execution_count": null,
   "id": "ee8af296-35b8-4550-9c93-cfff3d4a0e14",
   "metadata": {
    "scrolled": true
   },
   "outputs": [],
   "source": [
    "tournament = soup.find('table', attr={'class' : 'table-tournament'})"
   ]
  },
  {
   "cell_type": "code",
   "execution_count": null,
   "id": "6704730e-6e05-4d9e-a1af-bfe843e667bc",
   "metadata": {
    "scrolled": true
   },
   "outputs": [],
   "source": [
    "print(soup.find('table', attrs={'class' : 'table-tournament'}).prettify())"
   ]
  },
  {
   "cell_type": "code",
   "execution_count": null,
   "id": "01a6a349-9ca7-466a-b9ad-045d36d48375",
   "metadata": {
    "scrolled": true
   },
   "outputs": [],
   "source": [
    "tournament_df = pd.read_html(\n",
    "    StringIO(\n",
    "        str(\n",
    "            soup.find('table', attrs = {'class' : 'table-tournament'})\n",
    "        )\n",
    "    )\n",
    ")[0]"
   ]
  },
  {
   "cell_type": "code",
   "execution_count": null,
   "id": "2d70d67d-d922-460d-a65a-c936f9a5f549",
   "metadata": {
    "scrolled": true
   },
   "outputs": [],
   "source": [
    "decks_table = soup.find('table')\n",
    "deck_rows = decks_table.findAll('tr')\n",
    "all_links = [deck.findAll('a') for deck in deck_rows[1:-1:2]] # Step by 2 because every other row was returning blank.\n",
    "for link in all_links:\n",
    "  print(link, '\\n')\n",
    "deck_links = [link[0].get('href') for link in all_links]\n",
    "print(deck_links)\n",
    "print(len(deck_links))\n",
    "#deck_links = [deck.get('href') for row in\n",
    "#for links in all_links[0::2]:\n",
    "#    print(link, '\\n')\n",
    "#print(deck_links[0][0].get('href'))"
   ]
  },
  {
   "cell_type": "code",
   "execution_count": null,
   "id": "0c89ffa7-cb4b-4264-875d-9ba0cff4ca20",
   "metadata": {},
   "outputs": [],
   "source": [
    "tournament_df.head()"
   ]
  },
  {
   "cell_type": "code",
   "execution_count": null,
   "id": "c9ed6193-6562-46fa-9f57-c7cdcc3bd47c",
   "metadata": {},
   "outputs": [],
   "source": [
    "with open('../protour/final-fantasy/page1.htm') as f:\n",
    "    soup_expanded = BS( f.read() )\n"
   ]
  },
  {
   "cell_type": "code",
   "execution_count": null,
   "id": "6ef651e7-df1f-4e48-9e61-e6a3e8ddf003",
   "metadata": {
    "scrolled": true
   },
   "outputs": [],
   "source": [
    "print(\n",
    "    soup_expanded.find('div', attrs={'class':'deck-table-container'} )  \n",
    ")"
   ]
  },
  {
   "cell_type": "code",
   "execution_count": null,
   "id": "64eb8bbb-25c4-4540-a2d1-ec24b1da47f5",
   "metadata": {},
   "outputs": [],
   "source": [
    "deck_df = pd.read_html(\n",
    "    StringIO(\n",
    "        str(\n",
    "            soup_expanded.find('div', attrs={'class':'deck-table-container'} )\n",
    "        )\n",
    "    )\n",
    ")"
   ]
  },
  {
   "cell_type": "code",
   "execution_count": null,
   "id": "ff4e24b9-340e-40b4-ba65-b0978d15b806",
   "metadata": {},
   "outputs": [],
   "source": [
    "deck_df[1]"
   ]
  },
  {
   "cell_type": "code",
   "execution_count": null,
   "id": "2c093bd0-bfcb-451f-9b45-1ed5bde266d8",
   "metadata": {},
   "outputs": [],
   "source": [
    "manifold_mouse = pd.read_csv('../protour/final-fantasy/Manifold Mouse [BLB].csv')"
   ]
  },
  {
   "cell_type": "code",
   "execution_count": null,
   "id": "2619514f-15f3-445a-8b85-502846dd5862",
   "metadata": {},
   "outputs": [],
   "source": [
    "manifold_mouse"
   ]
  }
 ],
 "metadata": {
  "kernelspec": {
   "display_name": "Python [conda env:base] *",
   "language": "python",
   "name": "conda-base-py"
  },
  "language_info": {
   "codemirror_mode": {
    "name": "ipython",
    "version": 3
   },
   "file_extension": ".py",
   "mimetype": "text/x-python",
   "name": "python",
   "nbconvert_exporter": "python",
   "pygments_lexer": "ipython3",
   "version": "3.11.7"
  }
 },
 "nbformat": 4,
 "nbformat_minor": 5
}
