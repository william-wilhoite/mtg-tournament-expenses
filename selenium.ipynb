{
 "cells": [
  {
   "cell_type": "code",
   "execution_count": 1,
   "id": "1c70d534-a07a-4e70-ba6c-a401b3b87327",
   "metadata": {},
   "outputs": [],
   "source": [
    "import requests\n",
    "from time     import sleep\n",
    "from selenium import webdriver\n",
    "from bs4      import BeautifulSoup as BS\n",
    "from selenium.webdriver.common.by import By\n",
    "from random import randrange"
   ]
  },
  {
   "cell_type": "code",
   "execution_count": 2,
   "id": "bb6a201e-693d-4524-a7ea-f24f5eedb167",
   "metadata": {
    "editable": true,
    "slideshow": {
     "slide_type": ""
    },
    "tags": []
   },
   "outputs": [],
   "source": [
    "# https://itnext.io/overwrite-previously-printed-lines-4218a9563527\n",
    "def print_refresh(string):\n",
    "    print(string, \n",
    "          '\\t\\t\\t\\t\\t\\t\\t\\t\\t\\t\\t\\t',\n",
    "          end='\\r', \n",
    "          flush = True\n",
    "         )\n",
    "\n",
    "def pause_update(n, start='', end=''):\n",
    "    for i in range(n):\n",
    "        print_refresh(f'{start} Waiting {n} seconds: {n-i} seconds remaining{end}')\n",
    "        sleep(1)\n",
    "    print_refresh(f'{start}Finished with {n} second wait{end}')\n"
   ]
  },
  {
   "cell_type": "code",
   "execution_count": 3,
   "id": "a6a382d0-673d-44d6-9050-273645d22e7a",
   "metadata": {},
   "outputs": [],
   "source": [
    "''' Grab Tounament Table '''\n",
    "def grab_tournament():\n",
    "  tournament = driver.find_element( By.CLASS_NAME, 'table-tournament' )\n",
    "  print_refresh(f'Tournament Tables grabbed')\n",
    "  return tournament.text"
   ]
  },
  {
   "cell_type": "code",
   "execution_count": 4,
   "id": "f729b794-e5ba-438f-88b5-2dbd8611867a",
   "metadata": {},
   "outputs": [],
   "source": [
    "''' Expand Deck Lists '''\n",
    "def expand_deck_lists():\n",
    "  button = driver.find_element( \n",
    "      By.CLASS_NAME, 'tournament-decklist-collapse'\n",
    "  )\n",
    "  button.click()\n",
    "  print_refresh(f'expansion click finished')\n",
    "  #wait.until(lambda _ : revealed.is_displayed() )\n",
    "  pause_update(120)"
   ]
  },
  {
   "cell_type": "code",
   "execution_count": 5,
   "id": "186ca0f3-8335-4be8-809e-d95235d2aa2c",
   "metadata": {},
   "outputs": [],
   "source": [
    "''' Find deck lists '''\n",
    "def grab_decks():\n",
    "    temp = driver.find_elements( By.CLASS_NAME, 'deck-table-container' )\n",
    "    pause_update(5, start =  f'len(temp) decks found ')\n",
    "    return temp"
   ]
  },
  {
   "cell_type": "code",
   "execution_count": 6,
   "id": "623d0393-1f9f-442c-9873-1af66adafacd",
   "metadata": {},
   "outputs": [],
   "source": [
    "''' Find all cards '''\n",
    "def grab_cards():\n",
    "    temp = driver.find_elements( By.CLASS_NAME, 'card_name' )\n",
    "    print( len(temp), 'cards found' )\n",
    "    pause_update(3)\n",
    "    return temp"
   ]
  },
  {
   "cell_type": "markdown",
   "id": "ccb32afd-9cd0-4cf6-aed4-d6e24a0cffe2",
   "metadata": {},
   "source": [
    "## Preample Variables"
   ]
  },
  {
   "cell_type": "code",
   "execution_count": 7,
   "id": "b171c7c6-b1a8-437b-b637-617d8cddccc4",
   "metadata": {},
   "outputs": [],
   "source": [
    "tournament_tables = []\n",
    "deck_lists = []\n",
    "card_dictionary = {}"
   ]
  },
  {
   "cell_type": "markdown",
   "id": "f10c98b5-938e-4090-b8c2-f5a5ffe9c795",
   "metadata": {},
   "source": [
    "## Scrape"
   ]
  },
  {
   "cell_type": "code",
   "execution_count": 47,
   "id": "8a1079fb-1f06-4bac-93c9-4b946e89b795",
   "metadata": {},
   "outputs": [
    {
     "name": "stdout",
     "output_type": "stream",
     "text": [
      "Driver Initiated\n"
     ]
    }
   ],
   "source": [
    "''' Initialize WebDriver '''\n",
    "driver = webdriver.Chrome()\n",
    "driver.implicitly_wait(10)\n",
    "driver.set_page_load_timeout(60)\n",
    "driver.get('https://www.mtggoldfish.com/')\n",
    "print('Driver Initiated')"
   ]
  },
  {
   "cell_type": "code",
   "execution_count": 48,
   "id": "0b40b965-3bbe-45ba-800d-88a1eeb0b3a8",
   "metadata": {
    "editable": true,
    "slideshow": {
     "slide_type": ""
    },
    "tags": []
   },
   "outputs": [
    {
     "name": "stdout",
     "output_type": "stream",
     "text": [
      "3182 cards founded: Finished with 120 second wait \t\t\t\t\t\t\t\t\t\t\t\t\t\t\t\t\t\t\t\t\t\t\t\t\t\t\n",
      "3071 cards founded: Finished with 120 second wait \t\t\t\t\t\t\t\t\t\t\t\t\t\t\t\t\t\t\t\t\t\t\t\t\t\t8 unique cards \t\t\t\t\t\t\t\t\t\t\t\t\t\t\t\t\t\t\t\t\t\t\t\t\t\t\t\t\t\t\t\t\t\t\n",
      "943 cards foundded: Finished with 120 second wait \t\t\t\t\t\t\t\t\t\t\t\t\t\t\t\t\t\t\t\t\t\t\t\t\t\tnique cards \t\t\t\t\t\t\t\t\t\t\t\t\t\t\t\t\t\t\t\t\t\t\t\t\t\t\t\t\t\t\t\t\t\t\t\t\n",
      "Finished: 855 vs 699 for Thunder Junction vs 402 for Final Fantasy vs 492 for Aetherdrift\t\t\t\t\t\t\t\t\t\t\t\t\t\t\t\t\t\t\t\t\t\t\t\t\t\t\t\t\t\t\t\t\t\t\t\t\t\n"
     ]
    }
   ],
   "source": [
    "event = 'pro-tour-march-of-the-machine'\n",
    "''' Begin Scraping '''\n",
    "for i in range(3):\n",
    "  tournament_URL = f'https://www.mtggoldfish.com/tournament/{event}?page={i+1}#paper'\n",
    "  driver.get( tournament_URL )\n",
    "  pause_update(120, start = f'checking page {i+1}')\n",
    "\n",
    "  #tournament_tables.append( grab_tournament() )\n",
    "  expand_deck_lists()\n",
    "  pause_update(120, start = f'deck list expanded: ')\n",
    "  #deck_lists.append( grab_decks() )\n",
    "  cards = grab_cards()\n",
    "  pause_update(15, start = f'deck lists grabbed' )\n",
    "  print_refresh(f'Dictionary Updating')\n",
    "  for card in cards:\n",
    "    if card.text not in card_dictionary.keys():\n",
    "      card_dictionary[card.text] = (\n",
    "          card.find_element(By.TAG_NAME, 'a').get_attribute('href')\n",
    "      )\n",
    "      pause_update(3, start= f'adding {card.text}', end = f' dictionary updated: {len(card_dictionary)} unique cards')\n",
    "  \n",
    "  # check next page\n",
    "  pause_update( 30+randrange(30), start = f' checking page {i+1}' )\n",
    "  \n",
    "print(f'Finished: {len(card_dictionary)} vs 699 for Thunder Junction vs 402 for Final Fantasy vs 492 for Aetherdrift')"
   ]
  },
  {
   "cell_type": "code",
   "execution_count": null,
   "id": "94fcd8ed-2740-40e3-86dc-4663861f800f",
   "metadata": {},
   "outputs": [],
   "source": [
    "for table in tournament_tables:\n",
    "  for line in table.split('\\n'):\n",
    "    pause_update( 2, start = f'{line} ' )"
   ]
  },
  {
   "cell_type": "code",
   "execution_count": null,
   "id": "44fd0e22-cb68-4bbd-a855-589ea2e6d793",
   "metadata": {},
   "outputs": [],
   "source": [
    "'''\n",
    "print('Dictionary Updating')\n",
    "for card in cards:\n",
    "  if card not in card_list.keys():\n",
    "    card_list[card.text] = card.find_element(By.TAG_NAME, 'a').get_attribute('href')\n",
    "\n",
    "print('dictionary updated')\n",
    "print( len(card_list) )\n",
    "'''"
   ]
  },
  {
   "cell_type": "code",
   "execution_count": null,
   "id": "8dd00c1b-07fb-4a69-99f8-e22e3fb32fc7",
   "metadata": {},
   "outputs": [],
   "source": [
    "driver.get(card_dictionary['Manifold Mouse'])"
   ]
  },
  {
   "cell_type": "code",
   "execution_count": null,
   "id": "f30d94e6-37c5-4d8a-9c8e-e673040f27ec",
   "metadata": {
    "editable": true,
    "slideshow": {
     "slide_type": ""
    },
    "tags": []
   },
   "outputs": [],
   "source": [
    "test = driver.find_element(\n",
    "    By.CLASS_NAME, \n",
    "    'price-history-download-container'\n",
    ").find_element( By.TAG_NAME, 'a').get_attribute('href')"
   ]
  },
  {
   "cell_type": "code",
   "execution_count": null,
   "id": "ce5e5901-693b-46de-9689-ce681324e599",
   "metadata": {
    "scrolled": true
   },
   "outputs": [],
   "source": [
    "for card_name in card_dictionary.keys():\n",
    "  i = len(already_downloaded)\n",
    "  if card_name not in already_downloaded:\n",
    "    status = f'fetching the #{i+1} card csv price data for {card_name}: '\n",
    "    pause_update( 10 + randrange(7), start=status )\n",
    "    driver.get( card_dictionary[card_name] )\n",
    "    pause_update( 10 + randrange(9), start = 'loading site ' )\n",
    "    \n",
    "    already_downloaded.append(card_name)\n",
    "    status = 'downloaded list updated '\n",
    "    pause_update( 5, start = status )\n",
    "\n",
    "    '''\n",
    "    download_button = driver.find_element(\n",
    "        By.CLASS_NAME, 'price-history-download-container'\n",
    "    )\n",
    "    download_button.click()\n",
    "    '''\n",
    "    \n",
    "    price_csv_url = driver.find_element(\n",
    "      By.CLASS_NAME, 'price-history-download-container'\n",
    "    ).find_element( By.TAG_NAME, 'a').get_attribute('href')\n",
    "    driver.get( price_csv_url )\n",
    "    \n",
    "\n",
    "    status = f'data for {card_name} fetched '\n",
    "    pause_update(5, start = status)\n",
    "\n",
    "print_refresh('finished')\n"
   ]
  },
  {
   "cell_type": "code",
   "execution_count": null,
   "id": "de13dfd9-1789-459e-8963-9d92f7961e15",
   "metadata": {},
   "outputs": [],
   "source": []
  },
  {
   "cell_type": "code",
   "execution_count": null,
   "id": "b4a30741-c943-494f-8bcf-f23bea766fb4",
   "metadata": {},
   "outputs": [],
   "source": [
    "# already_downloaded = already_downloaded[:-6]\n",
    "len(already_downloaded)"
   ]
  },
  {
   "cell_type": "code",
   "execution_count": null,
   "id": "b659ed6f-e62e-4bfc-9c5b-fa52b05a3843",
   "metadata": {},
   "outputs": [],
   "source": [
    "# uncomment and run when finished or close browser manually.\n",
    "# driver.close()\n",
    "need_to_download = []\n",
    "for card_name in card_dictionary:\n",
    "  if card_name not in already_downloaded:\n",
    "    need_to_download.append(card_name)"
   ]
  },
  {
   "cell_type": "code",
   "execution_count": null,
   "id": "d9139a8a-d21c-40f3-ab6e-f4cb7646cf32",
   "metadata": {},
   "outputs": [],
   "source": [
    "len(card_dictionary)"
   ]
  },
  {
   "cell_type": "code",
   "execution_count": null,
   "id": "8b5bf1eb-7c36-48ac-aabf-fbe1427aedf3",
   "metadata": {
    "scrolled": true
   },
   "outputs": [],
   "source": [
    "for index, card_name in enumerate(need_to_download):\n",
    "  print_refresh( card_dictionary[card_name] )\n",
    "  input('continue?')\n",
    "  already_downloaded.append(card_name)"
   ]
  },
  {
   "cell_type": "code",
   "execution_count": null,
   "id": "93813d7b-3ff3-4e3d-b501-36e17dce70d3",
   "metadata": {
    "scrolled": true
   },
   "outputs": [],
   "source": [
    "card_dictionary[\"Dion, Bahamut's Dominant\"]"
   ]
  },
  {
   "cell_type": "code",
   "execution_count": null,
   "id": "c0155b77-6f8c-4e9a-9f0a-d61457855f5d",
   "metadata": {},
   "outputs": [],
   "source": [
    "len(already_downloaded)"
   ]
  },
  {
   "cell_type": "code",
   "execution_count": null,
   "id": "b663272b-8af9-45bd-8751-6eec69021e36",
   "metadata": {},
   "outputs": [],
   "source": [
    "'''\n",
    "k = 0\n",
    "while 'no' != input(\"Are you sure you want to start this?\").lower() :\n",
    "  for i in range(5):\n",
    "    print_refresh(f'{k} minutes and {i} seconds have passed')\n",
    "    sleep(1)\n",
    "  k += 1\n",
    "  if k > 2:\n",
    "    break\n",
    "'''"
   ]
  },
  {
   "cell_type": "code",
   "execution_count": null,
   "id": "67c28732-c749-44a1-ba48-43c74a6752fc",
   "metadata": {},
   "outputs": [],
   "source": [
    "with open('../checked_cards', 'a') as card_links:\n",
    "  for card, link in card_dictionary.items():\n",
    "      card_links.write( f\"'{card}'\\n\" )"
   ]
  },
  {
   "cell_type": "code",
   "execution_count": null,
   "id": "3848c222-04ca-4307-993d-e92c71e1fb0e",
   "metadata": {},
   "outputs": [],
   "source": [
    "## Aetherdrift Card Grab"
   ]
  },
  {
   "cell_type": "code",
   "execution_count": null,
   "id": "499469ba-cda4-4702-a69f-4b7c01a6e25c",
   "metadata": {},
   "outputs": [],
   "source": [
    "driver.get( card_dictionary['Stock Up'] )"
   ]
  },
  {
   "cell_type": "code",
   "execution_count": 31,
   "id": "6ae9e7d5-8daa-4027-952b-81165b42b0c3",
   "metadata": {},
   "outputs": [
    {
     "name": "stdout",
     "output_type": "stream",
     "text": [
      "Beza, the Bounding Spring\n",
      "Hired Claw\n"
     ]
    }
   ],
   "source": [
    "print(undownloaded_cards[0])\n",
    "print(downloaded[0])"
   ]
  },
  {
   "cell_type": "markdown",
   "id": "5571ee48-0f5a-4929-95bc-a4be3decb612",
   "metadata": {},
   "source": [
    "## Write to List for Event"
   ]
  },
  {
   "cell_type": "code",
   "execution_count": 49,
   "id": "92382922-5018-45bd-8f1b-90e0b10222f5",
   "metadata": {},
   "outputs": [],
   "source": [
    "for cardname in card_dictionary.keys():\n",
    "  with open(f'../{event}.cards', 'a') as fi:\n",
    "    fi.write( f'{cardname}\\n' )"
   ]
  },
  {
   "cell_type": "markdown",
   "id": "081446ad-782c-4bdf-8b89-b59493108a90",
   "metadata": {},
   "source": [
    "## Check Against Already Downloaded Cards"
   ]
  },
  {
   "cell_type": "code",
   "execution_count": 50,
   "id": "61fb674b-26ff-4e4a-b05d-33c7c16e184d",
   "metadata": {},
   "outputs": [
    {
     "name": "stdout",
     "output_type": "stream",
     "text": [
      "834\n",
      "855 ?= 834 + 154\n"
     ]
    }
   ],
   "source": [
    "downloaded = []\n",
    "with open('./logs/downloaded.list') as fi:\n",
    "  for line in fi:\n",
    "    downloaded.append( line.strip().strip(\"'\") )\n",
    "\n",
    "print( len(downloaded) )\n",
    "\n",
    "undownloaded_cards = []\n",
    "for card in card_dictionary.keys():\n",
    "  if card not in downloaded:\n",
    "    undownloaded_cards.append( card )\n",
    "\n",
    "print( f'{len( card_dictionary.keys() )} ?= {len( downloaded )} + {len( undownloaded_cards )}' )"
   ]
  },
  {
   "cell_type": "markdown",
   "id": "c79c4607-109f-43e7-998a-65b89c959771",
   "metadata": {},
   "source": [
    "## CSV Fetch for Event"
   ]
  },
  {
   "cell_type": "code",
   "execution_count": 44,
   "id": "6d5e818e-71a0-4a8d-82b6-65715bbd84bb",
   "metadata": {},
   "outputs": [],
   "source": [
    "just_downloaded = []"
   ]
  },
  {
   "cell_type": "code",
   "execution_count": 52,
   "id": "fed60b3a-6d16-4c15-a542-cd0c374470ed",
   "metadata": {
    "scrolled": true
   },
   "outputs": [
    {
     "name": "stdout",
     "output_type": "stream",
     "text": [
      "finished \t\t\t\t\t\t\t\t\t\t\t\tnd fetched Finished with 14 second wait \t\t\t\t\t\t\t\t\t\t\t\t\t\t\t\t\t\t\t\t\t\t\t\t\t\t\t\t\t\t\t\t\t\t\t\t\t\t\t\t\t\t\t\t\t\t\t\t\t\t\t\t\t\t\t\t\t\t\t\t\t\t\t\t\t\t\t\t\t\t\t\t\r"
     ]
    }
   ],
   "source": [
    "n = len(undownloaded_cards) - len(just_downloaded)\n",
    "\n",
    "for i, card_name in enumerate(undownloaded_cards):\n",
    "  if card_name not in just_downloaded:\n",
    "    status = f'fetching the #{i+1} card csv price data for {card_name}: '\n",
    "    pause_update( 10 + randrange(7), start=status )\n",
    "    driver.get( card_dictionary[card_name] )\n",
    "    pause_update( 10 + randrange(9), start = f'loading site ' )\n",
    "    \n",
    "    status = f'fetching {i+1} of {n} cards grabbed '\n",
    "    pause_update( 10 + randrange(10), start = status )\n",
    "    \n",
    "\n",
    "    price_csv_url = driver.find_element(\n",
    "      By.CLASS_NAME, 'price-history-download-container'\n",
    "    ).find_element( By.TAG_NAME, 'a').get_attribute('href')\n",
    "    driver.get( price_csv_url )\n",
    "    \n",
    "\n",
    "    status = f'data for {card_name} fetched '\n",
    "    just_downloaded.append(card_name)\n",
    "    with open('./logs/downloaded.list', 'a') as log:\n",
    "      log.write( f'{card_name}\\n' )\n",
    "    pause_update(5 + randrange(10), start = status)\n",
    "\n",
    "print_refresh('finished')"
   ]
  },
  {
   "cell_type": "code",
   "execution_count": 51,
   "id": "f26dc507-b371-4771-8115-b3eb5a32101d",
   "metadata": {
    "scrolled": true
   },
   "outputs": [
    {
     "data": {
      "text/plain": [
       "['Topiary Stomper',\n",
       " 'Archangel of Wrath',\n",
       " 'Glimpse the Core',\n",
       " 'Long Goodbye',\n",
       " \"Cartographer's Survey\",\n",
       " 'Depopulate',\n",
       " 'Boseiju, Who Endures',\n",
       " \"Jetmir's Garden\",\n",
       " \"Raffine's Tower\",\n",
       " \"Spara's Headquarters\",\n",
       " \"Ziatora's Proving Ground\",\n",
       " 'Chrome Host Seedshark',\n",
       " 'The Wandering Emperor',\n",
       " 'March of Otherworldly Light',\n",
       " 'Make Disappear',\n",
       " 'Memory Deluge',\n",
       " 'Deserted Beach',\n",
       " 'Eiganjo, Seat of the Empire',\n",
       " 'Field of Ruin',\n",
       " 'Otawara, Soaring City',\n",
       " 'Unlicensed Hearse',\n",
       " 'Hullbreaker Horror',\n",
       " 'Voldaren Epicure',\n",
       " 'Sokenzan, Crucible of Defiance',\n",
       " 'End the Festivities',\n",
       " 'Dennick, Pious Apprentice',\n",
       " 'Raffine, Scheming Seer',\n",
       " 'Wedding Announcement',\n",
       " 'Shattered Sanctum',\n",
       " 'Takenuma, Abandoned Mire',\n",
       " 'Vial Smasher, Gleeful Grenadier',\n",
       " 'Slogurk, the Overslime',\n",
       " 'Deathcap Glade',\n",
       " \"Xander's Lounge\",\n",
       " 'Turn the Earth',\n",
       " 'Path of Peril',\n",
       " 'Vorinclex',\n",
       " 'Duelist of the Mind',\n",
       " 'Knockout Blow',\n",
       " 'The Goose Mother',\n",
       " 'Shigeki, Jukai Visionary',\n",
       " 'Brokers Hideout',\n",
       " 'Cabaretti Courtyard',\n",
       " 'Echoing Deeps',\n",
       " 'Maestros Theater',\n",
       " 'Riveteers Overlook',\n",
       " \"Vampires' Vengeance\",\n",
       " 'Colossal Skyturtle',\n",
       " 'Titan of Industry',\n",
       " 'Shipwreck Marsh',\n",
       " 'Kellan, Inquisitive Prodigy',\n",
       " 'Into the Fire',\n",
       " 'Malevolent Hermit',\n",
       " 'Assimilation Aegis',\n",
       " 'Kaito Shizuki',\n",
       " 'Pillage the Bog',\n",
       " 'Pitiless Carnage',\n",
       " 'Splendid Reclamation',\n",
       " 'Sundown Pass',\n",
       " 'Bloodtithe Harvester',\n",
       " 'Haunted Ridge',\n",
       " 'Hidetsugu Consumes All',\n",
       " 'Lantern Flare',\n",
       " 'Glass Casket',\n",
       " 'The Mightstone and Weakstone',\n",
       " 'Unstable Glyphbridge',\n",
       " 'Torpor Orb',\n",
       " 'Urza, Lord Protector',\n",
       " 'Kaervek, the Punisher',\n",
       " 'Hostile Investigator',\n",
       " 'Elas il-Kor, Sadistic Pilgrim',\n",
       " 'Bloodthirsty Adversary',\n",
       " 'Charming Scoundrel',\n",
       " 'Feldon, Ronom Excavator',\n",
       " 'Play with Fire',\n",
       " 'Kumano Faces Kakkazan',\n",
       " 'Cemetery Gatekeeper',\n",
       " 'Goddric, Cloaked Reveler',\n",
       " 'Graveyard Trespasser',\n",
       " 'Realmbreaker, the Invasion Tree',\n",
       " 'Seismic Wave',\n",
       " 'Farewell',\n",
       " 'See Double',\n",
       " \"Raffine's Informant\",\n",
       " 'Tenacious Underdog',\n",
       " 'Anointed Peacekeeper',\n",
       " 'Shadow of Mortality',\n",
       " 'Touch the Spirit Realm',\n",
       " 'Make Your Own Luck',\n",
       " 'Syncopate',\n",
       " 'Silver Scrutiny',\n",
       " 'Doorkeeper Thrull',\n",
       " 'Hajar, Loyal Bodyguard',\n",
       " 'Annie Joins Up',\n",
       " 'Rabbit Battery',\n",
       " 'Scatter Ray',\n",
       " 'Essence Scatter',\n",
       " 'Void Rend',\n",
       " 'Disruption Protocol',\n",
       " 'Bristly Bill, Spine Sower',\n",
       " 'Union of the Third Path',\n",
       " 'The Celestus',\n",
       " 'Binding Negotiation',\n",
       " 'Parasitic Grasp',\n",
       " 'Siphon Insight',\n",
       " 'Ancestral Anger',\n",
       " 'Demonic Ruckus',\n",
       " 'Invasion of Zendikar',\n",
       " 'Vanquish the Horde',\n",
       " 'Final Showdown',\n",
       " 'Drag to the Bottom',\n",
       " 'Overgrown Farmland',\n",
       " 'Breach the Multiverse',\n",
       " 'Vadmir, New Blood',\n",
       " 'Gisa, the Hellraiser',\n",
       " 'Rush of Dread',\n",
       " 'Thalia, Guardian of Thraben',\n",
       " 'Lazav, Wearer of Faces',\n",
       " 'Cryptic Coat',\n",
       " 'Fugitive Codebreaker',\n",
       " 'Illuminator Virtuoso',\n",
       " 'Homestead Courage',\n",
       " \"Loran's Escape\",\n",
       " 'Kitesail Larcenist',\n",
       " 'Night Clubber',\n",
       " 'Extract the Truth',\n",
       " 'Pyrotechnic Performer',\n",
       " 'Hearth Elemental',\n",
       " 'Consider',\n",
       " 'Shore Up',\n",
       " 'Strangle',\n",
       " 'Stormcarved Coast',\n",
       " 'Phoenix Chick',\n",
       " 'Chandra, Dressed to Kill',\n",
       " 'Furnace Punisher',\n",
       " 'Lantern of the Lost',\n",
       " 'Kura, the Boundless Sky',\n",
       " 'Roaming Throne',\n",
       " 'Return the Favor',\n",
       " 'Cityscape Leveler',\n",
       " 'Skitterbeam Battalion',\n",
       " 'Stern Lesson',\n",
       " \"Bandit's Haul\",\n",
       " 'Roxanne, Starfall Savant',\n",
       " \"Alchemist's Gambit\",\n",
       " 'Dreamroot Cascade',\n",
       " 'Ashnod, Flesh Mechanist',\n",
       " 'Kellan, the Kid',\n",
       " 'Sigarda, Font of Blessings',\n",
       " 'Djeru and Hazoret',\n",
       " 'Jodah, the Unifier',\n",
       " 'Secluded Courtyard',\n",
       " 'Jirina, Dauntless General',\n",
       " 'Annie Flash, the Veteran',\n",
       " 'Restless Vinestalk',\n",
       " 'Malcolm, Alluring Scoundrel',\n",
       " 'The Cruelty of Gix',\n",
       " 'Ob Nixilis, the Adversary',\n",
       " 'Third Path Iconoclast',\n",
       " \"Chandra, Hope's Beacon\",\n",
       " 'Voltage Surge',\n",
       " 'Burn Down the House',\n",
       " 'Invoke Calamity',\n",
       " 'Restless Spire',\n",
       " 'Rockfall Vale',\n",
       " 'Reckless Impulse',\n",
       " \"Wrenn's Resolve\",\n",
       " 'Dance of the Tumbleweeds',\n",
       " 'Arid Archway',\n",
       " 'Hidetsugu and Kairi',\n",
       " 'Phyrexian Fleshgorger',\n",
       " 'Wail of the Forgotten',\n",
       " 'Big Score',\n",
       " 'Push // Pull',\n",
       " \"Kylox's Voltstrider\",\n",
       " 'Pit of Offerings',\n",
       " 'Twinferno',\n",
       " 'The Reality Chip',\n",
       " 'Clay-Fired Bricks',\n",
       " 'Light Up the Night',\n",
       " 'Lizard Blades',\n",
       " 'Picnic Ruiner',\n",
       " 'The Gitrog, Ravenous Ride',\n",
       " 'Vohar, Vodalian Desecrator',\n",
       " 'Conspiracy Unraveler',\n",
       " 'Reenact the Crime',\n",
       " 'Glistener Seer',\n",
       " 'Harrier Strix',\n",
       " 'Hypnotic Grifter',\n",
       " 'Omen Hawker',\n",
       " 'Sleep-Cursed Faerie',\n",
       " 'Realm-Scorcher Hellkite',\n",
       " 'Training Grounds',\n",
       " 'Ledger Shredder',\n",
       " 'Surge Engine']"
      ]
     },
     "execution_count": 51,
     "metadata": {},
     "output_type": "execute_result"
    }
   ],
   "source": [
    "just_downloaded"
   ]
  },
  {
   "cell_type": "code",
   "execution_count": 23,
   "id": "8341f91f-b0c8-4818-84a2-686fde9143e6",
   "metadata": {},
   "outputs": [
    {
     "data": {
      "text/plain": [
       "['Hired Claw',\n",
       " 'Magebane Lizard',\n",
       " 'Screaming Nemesis',\n",
       " 'Twinmaw Stormbrood',\n",
       " 'Monstrous Rage',\n",
       " 'Self-Destruct',\n",
       " 'Rockface Village',\n",
       " 'Lithomantic Barrage',\n",
       " 'Torch the Tower',\n",
       " 'Case of the Crimson Pulse',\n",
       " 'Drake Hatcher',\n",
       " 'Into the Flood Maw',\n",
       " 'Sleight of Hand',\n",
       " 'Wild Ride',\n",
       " 'Cori-Steel Cutter',\n",
       " 'Island',\n",
       " 'Shivan Reef',\n",
       " 'Thundering Falls',\n",
       " 'Abrade',\n",
       " 'Get Out',\n",
       " 'Opera Love Song',\n",
       " 'Obliterating Bolt',\n",
       " 'Ghost Vacuum',\n",
       " 'Dissection Tools',\n",
       " \"This Town Ain't Big Enough\",\n",
       " 'Fire Magic',\n",
       " 'Thundertrap Trainer',\n",
       " 'Overlord of the Floodpits',\n",
       " 'No More Lies',\n",
       " \"Ephara's Dispersal\",\n",
       " \"Abuelo's Awakening\",\n",
       " 'Roiling Dragonstorm',\n",
       " 'Omniscience',\n",
       " 'Cavern of Souls',\n",
       " 'Floodfarm Verge',\n",
       " 'Plains',\n",
       " 'Change the Equation',\n",
       " 'Get Lost',\n",
       " 'The Stone Brain',\n",
       " 'Overlord of the Mistmoors',\n",
       " 'Oracle of Tragedy',\n",
       " 'Voice of Victory',\n",
       " 'Slickshot Show-Off',\n",
       " 'Fresh Start',\n",
       " 'Moment of Truth',\n",
       " 'Authority of the Consuls',\n",
       " 'Dragon Sniper',\n",
       " 'Llanowar Elves',\n",
       " 'Rubblebelt Maverick',\n",
       " 'Scavenging Ooze',\n",
       " 'Coati Scavenger',\n",
       " 'Overlord of the Balemurk',\n",
       " 'Cache Grab',\n",
       " \"Dredger's Insight\",\n",
       " 'Blooming Marsh',\n",
       " 'Great Arashin City',\n",
       " 'Swamp',\n",
       " 'Cankerbloom',\n",
       " 'Go for the Throat',\n",
       " 'Gastal Raider',\n",
       " 'Skyfisher Spider',\n",
       " 'Lay Down Arms',\n",
       " 'Dreams of Laguna',\n",
       " 'Demolition Field',\n",
       " 'Idyllic Beachfront',\n",
       " 'The Filigree Sylex',\n",
       " 'Stoic Sphinx',\n",
       " 'Fear of Missing Out',\n",
       " 'Winternight Stories',\n",
       " 'Draconautics Engineer',\n",
       " 'Clarion Conqueror',\n",
       " 'Thunder Magic',\n",
       " 'Koth, Fire of Resistance',\n",
       " \"Ride's End\",\n",
       " 'High Noon',\n",
       " 'Confounding Riddle',\n",
       " 'Sidequest: Play Blitzball',\n",
       " 'Twisted Fealty',\n",
       " 'Spyglass Siren',\n",
       " 'Deep-Cavern Bat',\n",
       " 'Preacher of the Schism',\n",
       " 'Kaito, Bane of Nightmares',\n",
       " 'Duress',\n",
       " 'Darkslick Shores',\n",
       " 'Restless Reef',\n",
       " 'Nowhere to Run',\n",
       " \"Gix's Command\",\n",
       " 'Bloodletter of Aclazotz',\n",
       " \"Cruelclaw's Heist\",\n",
       " 'Unholy Annex // Ritual Chamber',\n",
       " 'Caves of Koilos',\n",
       " 'Intimidation Tactics',\n",
       " 'Legions to Ashes',\n",
       " 'The End',\n",
       " 'Sunpearl Kirin',\n",
       " 'Hopeless Nightmare',\n",
       " \"Bandit's Talent\",\n",
       " 'Restless Fortress',\n",
       " 'Destroy Evil',\n",
       " 'Rest in Peace',\n",
       " 'Zur, Eternal Schemer',\n",
       " 'Day of Judgment',\n",
       " 'Leyline Binding',\n",
       " 'Hedge Maze',\n",
       " 'Lush Portico',\n",
       " 'Heritage Reclamation',\n",
       " \"Rakshasa's Bargain\",\n",
       " 'Inspiring Vantage',\n",
       " 'Gnawing Vermin',\n",
       " 'Harvester of Misery',\n",
       " 'Huskburster Swarm',\n",
       " 'Seed of Hope',\n",
       " 'Underground Mortuary',\n",
       " 'Tear Asunder',\n",
       " 'Glissa Sunslayer',\n",
       " 'Surge of Salvation',\n",
       " 'Scrapwork Mutt',\n",
       " 'Phyrexian Dragon Engine',\n",
       " 'Recommission',\n",
       " 'Sheltered by Ghosts',\n",
       " 'The Mycosynth Gardens',\n",
       " 'Elusive Otter',\n",
       " 'Shiko, Paragon of the Way',\n",
       " 'Lightning Helix',\n",
       " 'Cori Mountain Monastery',\n",
       " 'Scalding Viper',\n",
       " 'Teething Wurmlet',\n",
       " 'Kellan, Daring Traveler',\n",
       " 'Sentinel of the Nameless City',\n",
       " 'Dusk Rose Reliquary',\n",
       " 'Herd Heirloom',\n",
       " 'Restless Prairie',\n",
       " 'Wilt-Leaf Liege',\n",
       " 'Split Up',\n",
       " 'Starting Town',\n",
       " 'Sulfurous Springs',\n",
       " 'Keen-Eyed Curator',\n",
       " 'Bushwhack',\n",
       " 'Break Out',\n",
       " 'Commercial District',\n",
       " 'Thornspire Verge',\n",
       " 'Wrenn and Realmbreaker',\n",
       " 'Blackcleave Cliffs',\n",
       " 'Defiled Crypt // Cadaver Lab',\n",
       " \"Builder's Talent\",\n",
       " 'Blazemire Verge',\n",
       " 'Elspeth, Storm Slayer',\n",
       " 'Spell Stutter',\n",
       " 'Flowerfoot Swordmaster',\n",
       " 'Restless Bivouac',\n",
       " 'Witness Protection',\n",
       " 'Elvish Archivist',\n",
       " 'Abhorrent Oculus',\n",
       " 'Webstrike Elite',\n",
       " 'Restless Cottage',\n",
       " 'Obstinate Baloth',\n",
       " 'Urgent Necropsy',\n",
       " 'Yuna, Hope of Spira',\n",
       " 'Fear of Impostors',\n",
       " 'Esper Origins',\n",
       " 'Overwhelming Surge',\n",
       " 'Archfiend of the Dross',\n",
       " 'Caustic Bronco',\n",
       " 'Summon: Knights of Round',\n",
       " 'Unsummon',\n",
       " 'Sleep Magic',\n",
       " 'Sab-Sunen, Luxa Embodied',\n",
       " 'Ambrosia Whiteheart',\n",
       " 'Unending Whisper',\n",
       " 'Chandra, Spark Hunter',\n",
       " 'Tinybones, the Pickpocket',\n",
       " 'Lord Skitter, Sewer King',\n",
       " 'Kaya, Intangible Slayer',\n",
       " 'Beastie Beatdown',\n",
       " \"Valgavoth's Faithful\",\n",
       " 'Atraxa, Grand Unifier',\n",
       " 'Valgavoth, Terror Eater',\n",
       " 'Zombify',\n",
       " 'Raucous Theater',\n",
       " 'Questing Druid',\n",
       " 'Drannith Ruins',\n",
       " 'The Enigma Jewel',\n",
       " 'Prophetic Prism',\n",
       " 'Perilous Snare',\n",
       " 'Simulacrum Synthesizer',\n",
       " 'Thousand Moons Smithy',\n",
       " 'The Gold Saucer',\n",
       " 'Serra Paragon',\n",
       " 'Demon Wall',\n",
       " 'Fear of Isolation',\n",
       " 'Nezumi Linkbreaker',\n",
       " 'Vengeful Bloodwitch',\n",
       " 'Enduring Innocence',\n",
       " 'Raise the Past',\n",
       " 'Dalkovan Encampment',\n",
       " \"Dion, Bahamut's Dominant\",\n",
       " \"Shardmage's Rescue\",\n",
       " 'Dust Animus',\n",
       " 'Aclazotz, Deepest Betrayal',\n",
       " 'Lively Dirge',\n",
       " 'The Last Ride']"
      ]
     },
     "execution_count": 23,
     "metadata": {},
     "output_type": "execute_result"
    }
   ],
   "source": [
    "downloaded"
   ]
  }
 ],
 "metadata": {
  "kernelspec": {
   "display_name": "Python [conda env:selenium]",
   "language": "python",
   "name": "conda-env-selenium-py"
  },
  "language_info": {
   "codemirror_mode": {
    "name": "ipython",
    "version": 3
   },
   "file_extension": ".py",
   "mimetype": "text/x-python",
   "name": "python",
   "nbconvert_exporter": "python",
   "pygments_lexer": "ipython3",
   "version": "3.11.13"
  }
 },
 "nbformat": 4,
 "nbformat_minor": 5
}
