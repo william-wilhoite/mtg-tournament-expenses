{
 "cells": [
  {
   "cell_type": "code",
   "execution_count": 1,
   "id": "1c70d534-a07a-4e70-ba6c-a401b3b87327",
   "metadata": {},
   "outputs": [],
   "source": [
    "import requests\n",
    "from time     import sleep\n",
    "from selenium import webdriver\n",
    "from bs4      import BeautifulSoup as BS\n",
    "from selenium.webdriver.common.by import By\n",
    "from random import randrange"
   ]
  },
  {
   "cell_type": "code",
   "execution_count": 2,
   "id": "bb6a201e-693d-4524-a7ea-f24f5eedb167",
   "metadata": {
    "editable": true,
    "slideshow": {
     "slide_type": ""
    },
    "tags": []
   },
   "outputs": [],
   "source": [
    "# https://itnext.io/overwrite-previously-printed-lines-4218a9563527\n",
    "def print_refresh(string):\n",
    "    print(string, \n",
    "          '\\t\\t\\t\\t\\t\\t\\t\\t\\t\\t\\t\\t',\n",
    "          end='\\r', \n",
    "          flush = True\n",
    "         )\n",
    "\n",
    "def pause_update(n, start='', end=''):\n",
    "    for i in range(n):\n",
    "        print_refresh(f'{start} Waiting {n} seconds: {n-i} seconds remaining{end}')\n",
    "        sleep(1)\n",
    "    print_refresh(f'{start}Finished with {n} second wait{end}')\n"
   ]
  },
  {
   "cell_type": "code",
   "execution_count": 4,
   "id": "a6a382d0-673d-44d6-9050-273645d22e7a",
   "metadata": {},
   "outputs": [],
   "source": [
    "''' Grab Tounament Table '''\n",
    "def grab_tournament():\n",
    "  tournament = driver.find_element( By.CLASS_NAME, 'table-tournament' )\n",
    "  print_refresh(f'Tournament Tables grabbed')\n",
    "  return tournament.text"
   ]
  },
  {
   "cell_type": "code",
   "execution_count": 5,
   "id": "f729b794-e5ba-438f-88b5-2dbd8611867a",
   "metadata": {},
   "outputs": [],
   "source": [
    "''' Expand Deck Lists '''\n",
    "def expand_deck_lists():\n",
    "  button = driver.find_element( \n",
    "      By.CLASS_NAME, 'tournament-decklist-collapse'\n",
    "  )\n",
    "  button.click()\n",
    "  print_refresh(f'expansion click finished')\n",
    "  #wait.until(lambda _ : revealed.is_displayed() )\n",
    "  pause_update(120)"
   ]
  },
  {
   "cell_type": "code",
   "execution_count": 6,
   "id": "186ca0f3-8335-4be8-809e-d95235d2aa2c",
   "metadata": {},
   "outputs": [],
   "source": [
    "''' Find deck lists '''\n",
    "def grab_decks():\n",
    "    temp = driver.find_elements( By.CLASS_NAME, 'deck-table-container' )\n",
    "    pause_update(5, start =  f'len(temp) decks found ')\n",
    "    return temp"
   ]
  },
  {
   "cell_type": "code",
   "execution_count": 7,
   "id": "623d0393-1f9f-442c-9873-1af66adafacd",
   "metadata": {},
   "outputs": [],
   "source": [
    "''' Find all cards '''\n",
    "def grab_cards():\n",
    "    temp = driver.find_elements( By.CLASS_NAME, 'card_name' )\n",
    "    print( len(temp), 'cards found' )\n",
    "    pause_update(3)\n",
    "    return temp"
   ]
  },
  {
   "cell_type": "markdown",
   "id": "ccb32afd-9cd0-4cf6-aed4-d6e24a0cffe2",
   "metadata": {},
   "source": [
    "## Preample Variables"
   ]
  },
  {
   "cell_type": "code",
   "execution_count": 8,
   "id": "b171c7c6-b1a8-437b-b637-617d8cddccc4",
   "metadata": {},
   "outputs": [],
   "source": [
    "tournament_tables = []\n",
    "deck_lists = []\n",
    "card_dictionary = {}"
   ]
  },
  {
   "cell_type": "markdown",
   "id": "f10c98b5-938e-4090-b8c2-f5a5ffe9c795",
   "metadata": {},
   "source": [
    "## Scrape"
   ]
  },
  {
   "cell_type": "code",
   "execution_count": 9,
   "id": "8a1079fb-1f06-4bac-93c9-4b946e89b795",
   "metadata": {},
   "outputs": [
    {
     "name": "stdout",
     "output_type": "stream",
     "text": [
      "Driver Initiated\n"
     ]
    }
   ],
   "source": [
    "''' Initialize WebDriver '''\n",
    "driver = webdriver.Chrome()\n",
    "driver.implicitly_wait(5)\n",
    "driver.set_page_load_timeout(60)\n",
    "driver.get('https://mtggoldfish.com/')\n",
    "print('Driver Initiated')"
   ]
  },
  {
   "cell_type": "code",
   "execution_count": 10,
   "id": "0b40b965-3bbe-45ba-800d-88a1eeb0b3a8",
   "metadata": {
    "editable": true,
    "slideshow": {
     "slide_type": ""
    },
    "tags": []
   },
   "outputs": [
    {
     "name": "stdout",
     "output_type": "stream",
     "text": [
      "2969 cards foundfound Finished with 5 second wait \t\t\t\t\t\t\t\t\t\t\t\t\t\t\t\t\t\t\t\t\t\t\t\t\t\t\n",
      "3008 cards foundfound Finished with 5 second wait \t\t\t\t\t\t\t\t\t\t\t\t\t\t\t\t\t\t\t\t\t\t\t\t\t\td: 315 unique cards \t\t\t\t\t\t\t\t\t\t\t\t\t\t\t\t\t\t\t\t\t\t\t\t\t\t\t\t\t\t\t\t\t\n",
      "2895 cards foundfound Finished with 5 second wait \t\t\t\t\t\t\t\t\t\t\t\t\t\t\t\t\t\t\t\t\t\t\t\t\t\t412 unique cards \t\t\t\t\t\t\t\t\t\t\t\t\t\t\t\t\t\t\t\t\t\t\t\t\t\t\t\t\t\t\t\n",
      "1494 cards foundfound Finished with 5 second wait \t\t\t\t\t\t\t\t\t\t\t\t\t\t\t\t\t\t\t\t\t\t\t\t\t\tue cards \t\t\t\t\t\t\t\t\t\t\t\t\t\t\t\t\t\t\t\t\t\t\t\t\t\t\t\t\t\t\t\t\t\t\t\t\t\t\t\t\t\t\t\t\t\t\n",
      "Finished: 492 vs 402 for Final Fantasy Pro Tour vs 492 for Aetherdrift2 unique cards \t\t\t\t\t\t\t\t\t\t\t\t\t\t\t\t\t\t\t\t\t\t\t\t\t\t\t\t\t\t\t\t\t\t\t\n"
     ]
    }
   ],
   "source": [
    "\n",
    "''' Begin Scraping '''\n",
    "for i in range(4):\n",
    "  tournament_URL = f'https://www.mtggoldfish.com/tournament/pro-tour-aetherdrift?page={i+1}#paper'\n",
    "  driver.get( tournament_URL )\n",
    "  pause_update(15, start = f'checking page {i+2}')\n",
    "\n",
    "  tournament_tables.append( grab_tournament() )\n",
    "  expand_deck_lists()\n",
    "  pause_update(120, start = f'deck list expanded: ')\n",
    "  deck_lists.append( grab_decks() )\n",
    "  new_cards = grab_cards()\n",
    "  pause_update(15, start = f'deck lists grabbed' )\n",
    "  print_refresh(f'Dictionary Updating')\n",
    "  for card in new_cards:\n",
    "    if card.text not in card_dictionary.keys():\n",
    "      card_dictionary[card.text] = (\n",
    "          card.find_element(By.TAG_NAME, 'a').get_attribute('href')\n",
    "      )\n",
    "      pause_update(3, start= f'adding {card.text}', end = f' dictionary updated: {len(card_dictionary)} unique cards')\n",
    "  \n",
    "  # check next page\n",
    "  pause_update( 30+randrange(30), start = f' checking page {i+1}' )\n",
    "  \n",
    "print(f'Finished: {len(card_dictionary)} vs 402 for Final Fantasy Pro Tour vs 492 for Aetherdrift')"
   ]
  },
  {
   "cell_type": "code",
   "execution_count": null,
   "id": "94fcd8ed-2740-40e3-86dc-4663861f800f",
   "metadata": {},
   "outputs": [],
   "source": [
    "for table in tournament_tables:\n",
    "  for line in table.split('\\n'):\n",
    "    pause_update( 2, start = f'{line} ' )"
   ]
  },
  {
   "cell_type": "code",
   "execution_count": null,
   "id": "5ea246e1-26bd-4313-a185-618d3c184de7",
   "metadata": {},
   "outputs": [],
   "source": [
    "#  card_dictionary={}\n",
    "#  pause_update(90, start= f'load next page in ')"
   ]
  },
  {
   "cell_type": "code",
   "execution_count": null,
   "id": "5aafa613-c517-427f-b049-1c9cc7a848b4",
   "metadata": {
    "editable": true,
    "slideshow": {
     "slide_type": ""
    },
    "tags": []
   },
   "outputs": [],
   "source": [
    "print(f'{len(card_dictionary)} vs 402 for Final Fantasy Pro Tour')"
   ]
  },
  {
   "cell_type": "code",
   "execution_count": null,
   "id": "3a855c98-00ce-43ba-bf6d-4a30f72aa52d",
   "metadata": {},
   "outputs": [],
   "source": [
    "type( grab_decks() )"
   ]
  },
  {
   "cell_type": "code",
   "execution_count": null,
   "id": "44fd0e22-cb68-4bbd-a855-589ea2e6d793",
   "metadata": {},
   "outputs": [],
   "source": [
    "'''\n",
    "print('Dictionary Updating')\n",
    "for card in cards:\n",
    "  if card not in card_list.keys():\n",
    "    card_list[card.text] = card.find_element(By.TAG_NAME, 'a').get_attribute('href')\n",
    "\n",
    "print('dictionary updated')\n",
    "print( len(card_list) )\n",
    "'''"
   ]
  },
  {
   "cell_type": "code",
   "execution_count": null,
   "id": "23222cdb-c0aa-40d4-a464-4d5c835774f3",
   "metadata": {
    "scrolled": true
   },
   "outputs": [],
   "source": [
    "card_dictionary"
   ]
  },
  {
   "cell_type": "code",
   "execution_count": null,
   "id": "8dd00c1b-07fb-4a69-99f8-e22e3fb32fc7",
   "metadata": {},
   "outputs": [],
   "source": [
    "driver.get(card_dictionary['Manifold Mouse'])"
   ]
  },
  {
   "cell_type": "code",
   "execution_count": null,
   "id": "f30d94e6-37c5-4d8a-9c8e-e673040f27ec",
   "metadata": {
    "editable": true,
    "slideshow": {
     "slide_type": ""
    },
    "tags": []
   },
   "outputs": [],
   "source": [
    "test = driver.find_element(\n",
    "    By.CLASS_NAME, \n",
    "    'price-history-download-container'\n",
    ").find_element( By.TAG_NAME, 'a').get_attribute('href')"
   ]
  },
  {
   "cell_type": "code",
   "execution_count": null,
   "id": "ce5e5901-693b-46de-9689-ce681324e599",
   "metadata": {
    "scrolled": true
   },
   "outputs": [],
   "source": [
    "for card_name in card_dictionary.keys():\n",
    "  i = len(already_downloaded)\n",
    "  if card_name not in already_downloaded:\n",
    "    status = f'fetching the #{i+1} card csv price data for {card_name}: '\n",
    "    pause_update( 10 + randrange(7), start=status )\n",
    "    driver.get( card_dictionary[card_name] )\n",
    "    pause_update( 10 + randrange(9), start = 'loading site ' )\n",
    "    \n",
    "    already_downloaded.append(card_name)\n",
    "    status = 'downloaded list updated '\n",
    "    pause_update( 5, start = status )\n",
    "\n",
    "    '''\n",
    "    download_button = driver.find_element(\n",
    "        By.CLASS_NAME, 'price-history-download-container'\n",
    "    )\n",
    "    download_button.click()\n",
    "    '''\n",
    "    \n",
    "    price_csv_url = driver.find_element(\n",
    "      By.CLASS_NAME, 'price-history-download-container'\n",
    "    ).find_element( By.TAG_NAME, 'a').get_attribute('href')\n",
    "    driver.get( price_csv_url )\n",
    "    \n",
    "\n",
    "    status = f'data for {card_name} fetched '\n",
    "    pause_update(5, start = status)\n",
    "\n",
    "print_refresh('finished')\n"
   ]
  },
  {
   "cell_type": "code",
   "execution_count": null,
   "id": "b4a30741-c943-494f-8bcf-f23bea766fb4",
   "metadata": {},
   "outputs": [],
   "source": [
    "# already_downloaded = already_downloaded[:-6]\n",
    "len(already_downloaded)"
   ]
  },
  {
   "cell_type": "code",
   "execution_count": null,
   "id": "b659ed6f-e62e-4bfc-9c5b-fa52b05a3843",
   "metadata": {},
   "outputs": [],
   "source": [
    "# uncomment and run when finished or close browser manually.\n",
    "# driver.close()\n",
    "need_to_download = []\n",
    "for card_name in card_dictionary:\n",
    "  if card_name not in already_downloaded:\n",
    "    need_to_download.append(card_name)"
   ]
  },
  {
   "cell_type": "code",
   "execution_count": null,
   "id": "d9139a8a-d21c-40f3-ab6e-f4cb7646cf32",
   "metadata": {},
   "outputs": [],
   "source": [
    "len(card_dictionary)"
   ]
  },
  {
   "cell_type": "code",
   "execution_count": null,
   "id": "8b5bf1eb-7c36-48ac-aabf-fbe1427aedf3",
   "metadata": {
    "scrolled": true
   },
   "outputs": [],
   "source": [
    "for index, card_name in enumerate(need_to_download):\n",
    "  print_refresh( card_dictionary[card_name] )\n",
    "  input('continue?')\n",
    "  already_downloaded.append(card_name)"
   ]
  },
  {
   "cell_type": "code",
   "execution_count": null,
   "id": "93813d7b-3ff3-4e3d-b501-36e17dce70d3",
   "metadata": {
    "scrolled": true
   },
   "outputs": [],
   "source": [
    "card_dictionary[\"Dion, Bahamut's Dominant\"]"
   ]
  },
  {
   "cell_type": "code",
   "execution_count": null,
   "id": "c0155b77-6f8c-4e9a-9f0a-d61457855f5d",
   "metadata": {},
   "outputs": [],
   "source": [
    "len(already_downloaded)"
   ]
  },
  {
   "cell_type": "code",
   "execution_count": null,
   "id": "b663272b-8af9-45bd-8751-6eec69021e36",
   "metadata": {},
   "outputs": [],
   "source": [
    "'''\n",
    "k = 0\n",
    "while 'no' != input(\"Are you sure you want to start this?\").lower() :\n",
    "  for i in range(5):\n",
    "    print_refresh(f'{k} minutes and {i} seconds have passed')\n",
    "    sleep(1)\n",
    "  k += 1\n",
    "  if k > 2:\n",
    "    break\n",
    "'''"
   ]
  },
  {
   "cell_type": "code",
   "execution_count": null,
   "id": "67c28732-c749-44a1-ba48-43c74a6752fc",
   "metadata": {},
   "outputs": [],
   "source": [
    "with open('../checked_cards', 'a') as card_links:\n",
    "  for card, link in card_dictionary.items():\n",
    "      card_links.write( f\"'{card}'\\n\" )"
   ]
  }
 ],
 "metadata": {
  "kernelspec": {
   "display_name": "Python [conda env:selenium]",
   "language": "python",
   "name": "conda-env-selenium-py"
  },
  "language_info": {
   "codemirror_mode": {
    "name": "ipython",
    "version": 3
   },
   "file_extension": ".py",
   "mimetype": "text/x-python",
   "name": "python",
   "nbconvert_exporter": "python",
   "pygments_lexer": "ipython3",
   "version": "3.11.13"
  }
 },
 "nbformat": 4,
 "nbformat_minor": 5
}
